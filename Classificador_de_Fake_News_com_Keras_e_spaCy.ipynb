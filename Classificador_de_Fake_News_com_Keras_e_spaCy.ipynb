{
  "cells": [
    {
      "cell_type": "markdown",
      "metadata": {
        "id": "view-in-github",
        "colab_type": "text"
      },
      "source": [
        "<a href=\"https://colab.research.google.com/github/FGalvao77/Classificador-de-Fake-News-com-Keras-e-spaCy/blob/main/Classificador_de_Fake_News_com_Keras_e_spaCy.ipynb\" target=\"_parent\"><img src=\"https://colab.research.google.com/assets/colab-badge.svg\" alt=\"Open In Colab\"/></a>"
      ]
    },
    {
      "cell_type": "markdown",
      "source": [
        "### **Classificador de `Fake News` com _Keras_ e _spaCy_**\n",
        "---\n",
        "---"
      ],
      "metadata": {
        "id": "-EUBK1CVtu08"
      }
    },
    {
      "cell_type": "code",
      "execution_count": 1,
      "metadata": {
        "id": "y0wFrfMXYdvC"
      },
      "outputs": [],
      "source": [
        "# instalando a biblioteca \"kaggle\"\n",
        "%%capture\n",
        "!pip install kaggle"
      ]
    },
    {
      "cell_type": "code",
      "execution_count": 2,
      "metadata": {
        "colab": {
          "base_uri": "https://localhost:8080/",
          "height": 73
        },
        "id": "kURsR3M9ZAI6",
        "outputId": "a1809b52-3188-4d6c-80ca-b5fe03637fc3"
      },
      "outputs": [
        {
          "output_type": "display_data",
          "data": {
            "text/plain": [
              "<IPython.core.display.HTML object>"
            ],
            "text/html": [
              "\n",
              "     <input type=\"file\" id=\"files-cf8b22b8-bd5a-4494-b175-a90e591e1a5b\" name=\"files[]\" multiple disabled\n",
              "        style=\"border:none\" />\n",
              "     <output id=\"result-cf8b22b8-bd5a-4494-b175-a90e591e1a5b\">\n",
              "      Upload widget is only available when the cell has been executed in the\n",
              "      current browser session. Please rerun this cell to enable.\n",
              "      </output>\n",
              "      <script>// Copyright 2017 Google LLC\n",
              "//\n",
              "// Licensed under the Apache License, Version 2.0 (the \"License\");\n",
              "// you may not use this file except in compliance with the License.\n",
              "// You may obtain a copy of the License at\n",
              "//\n",
              "//      http://www.apache.org/licenses/LICENSE-2.0\n",
              "//\n",
              "// Unless required by applicable law or agreed to in writing, software\n",
              "// distributed under the License is distributed on an \"AS IS\" BASIS,\n",
              "// WITHOUT WARRANTIES OR CONDITIONS OF ANY KIND, either express or implied.\n",
              "// See the License for the specific language governing permissions and\n",
              "// limitations under the License.\n",
              "\n",
              "/**\n",
              " * @fileoverview Helpers for google.colab Python module.\n",
              " */\n",
              "(function(scope) {\n",
              "function span(text, styleAttributes = {}) {\n",
              "  const element = document.createElement('span');\n",
              "  element.textContent = text;\n",
              "  for (const key of Object.keys(styleAttributes)) {\n",
              "    element.style[key] = styleAttributes[key];\n",
              "  }\n",
              "  return element;\n",
              "}\n",
              "\n",
              "// Max number of bytes which will be uploaded at a time.\n",
              "const MAX_PAYLOAD_SIZE = 100 * 1024;\n",
              "\n",
              "function _uploadFiles(inputId, outputId) {\n",
              "  const steps = uploadFilesStep(inputId, outputId);\n",
              "  const outputElement = document.getElementById(outputId);\n",
              "  // Cache steps on the outputElement to make it available for the next call\n",
              "  // to uploadFilesContinue from Python.\n",
              "  outputElement.steps = steps;\n",
              "\n",
              "  return _uploadFilesContinue(outputId);\n",
              "}\n",
              "\n",
              "// This is roughly an async generator (not supported in the browser yet),\n",
              "// where there are multiple asynchronous steps and the Python side is going\n",
              "// to poll for completion of each step.\n",
              "// This uses a Promise to block the python side on completion of each step,\n",
              "// then passes the result of the previous step as the input to the next step.\n",
              "function _uploadFilesContinue(outputId) {\n",
              "  const outputElement = document.getElementById(outputId);\n",
              "  const steps = outputElement.steps;\n",
              "\n",
              "  const next = steps.next(outputElement.lastPromiseValue);\n",
              "  return Promise.resolve(next.value.promise).then((value) => {\n",
              "    // Cache the last promise value to make it available to the next\n",
              "    // step of the generator.\n",
              "    outputElement.lastPromiseValue = value;\n",
              "    return next.value.response;\n",
              "  });\n",
              "}\n",
              "\n",
              "/**\n",
              " * Generator function which is called between each async step of the upload\n",
              " * process.\n",
              " * @param {string} inputId Element ID of the input file picker element.\n",
              " * @param {string} outputId Element ID of the output display.\n",
              " * @return {!Iterable<!Object>} Iterable of next steps.\n",
              " */\n",
              "function* uploadFilesStep(inputId, outputId) {\n",
              "  const inputElement = document.getElementById(inputId);\n",
              "  inputElement.disabled = false;\n",
              "\n",
              "  const outputElement = document.getElementById(outputId);\n",
              "  outputElement.innerHTML = '';\n",
              "\n",
              "  const pickedPromise = new Promise((resolve) => {\n",
              "    inputElement.addEventListener('change', (e) => {\n",
              "      resolve(e.target.files);\n",
              "    });\n",
              "  });\n",
              "\n",
              "  const cancel = document.createElement('button');\n",
              "  inputElement.parentElement.appendChild(cancel);\n",
              "  cancel.textContent = 'Cancel upload';\n",
              "  const cancelPromise = new Promise((resolve) => {\n",
              "    cancel.onclick = () => {\n",
              "      resolve(null);\n",
              "    };\n",
              "  });\n",
              "\n",
              "  // Wait for the user to pick the files.\n",
              "  const files = yield {\n",
              "    promise: Promise.race([pickedPromise, cancelPromise]),\n",
              "    response: {\n",
              "      action: 'starting',\n",
              "    }\n",
              "  };\n",
              "\n",
              "  cancel.remove();\n",
              "\n",
              "  // Disable the input element since further picks are not allowed.\n",
              "  inputElement.disabled = true;\n",
              "\n",
              "  if (!files) {\n",
              "    return {\n",
              "      response: {\n",
              "        action: 'complete',\n",
              "      }\n",
              "    };\n",
              "  }\n",
              "\n",
              "  for (const file of files) {\n",
              "    const li = document.createElement('li');\n",
              "    li.append(span(file.name, {fontWeight: 'bold'}));\n",
              "    li.append(span(\n",
              "        `(${file.type || 'n/a'}) - ${file.size} bytes, ` +\n",
              "        `last modified: ${\n",
              "            file.lastModifiedDate ? file.lastModifiedDate.toLocaleDateString() :\n",
              "                                    'n/a'} - `));\n",
              "    const percent = span('0% done');\n",
              "    li.appendChild(percent);\n",
              "\n",
              "    outputElement.appendChild(li);\n",
              "\n",
              "    const fileDataPromise = new Promise((resolve) => {\n",
              "      const reader = new FileReader();\n",
              "      reader.onload = (e) => {\n",
              "        resolve(e.target.result);\n",
              "      };\n",
              "      reader.readAsArrayBuffer(file);\n",
              "    });\n",
              "    // Wait for the data to be ready.\n",
              "    let fileData = yield {\n",
              "      promise: fileDataPromise,\n",
              "      response: {\n",
              "        action: 'continue',\n",
              "      }\n",
              "    };\n",
              "\n",
              "    // Use a chunked sending to avoid message size limits. See b/62115660.\n",
              "    let position = 0;\n",
              "    do {\n",
              "      const length = Math.min(fileData.byteLength - position, MAX_PAYLOAD_SIZE);\n",
              "      const chunk = new Uint8Array(fileData, position, length);\n",
              "      position += length;\n",
              "\n",
              "      const base64 = btoa(String.fromCharCode.apply(null, chunk));\n",
              "      yield {\n",
              "        response: {\n",
              "          action: 'append',\n",
              "          file: file.name,\n",
              "          data: base64,\n",
              "        },\n",
              "      };\n",
              "\n",
              "      let percentDone = fileData.byteLength === 0 ?\n",
              "          100 :\n",
              "          Math.round((position / fileData.byteLength) * 100);\n",
              "      percent.textContent = `${percentDone}% done`;\n",
              "\n",
              "    } while (position < fileData.byteLength);\n",
              "  }\n",
              "\n",
              "  // All done.\n",
              "  yield {\n",
              "    response: {\n",
              "      action: 'complete',\n",
              "    }\n",
              "  };\n",
              "}\n",
              "\n",
              "scope.google = scope.google || {};\n",
              "scope.google.colab = scope.google.colab || {};\n",
              "scope.google.colab._files = {\n",
              "  _uploadFiles,\n",
              "  _uploadFilesContinue,\n",
              "};\n",
              "})(self);\n",
              "</script> "
            ]
          },
          "metadata": {}
        },
        {
          "output_type": "stream",
          "name": "stdout",
          "text": [
            "Saving kaggle.json to kaggle.json\n"
          ]
        }
      ],
      "source": [
        "# importando a chave da API do Kaggle\n",
        "import time                      \n",
        "from google.colab import files \n",
        "\n",
        "uploaded = files.upload()\n",
        "time.sleep(10)"
      ]
    },
    {
      "cell_type": "code",
      "execution_count": 3,
      "metadata": {
        "colab": {
          "base_uri": "https://localhost:8080/"
        },
        "id": "jH7WeNDRZAHE",
        "outputId": "ad787932-0bd9-48b5-c9ec-76c8c549229b"
      },
      "outputs": [
        {
          "output_type": "stream",
          "name": "stdout",
          "text": [
            "Downloading newscsv.zip to /content\n",
            " 79% 9.00M/11.5M [00:01<00:00, 8.42MB/s]\n",
            "100% 11.5M/11.5M [00:01<00:00, 7.38MB/s]\n"
          ]
        }
      ],
      "source": [
        "# criando diretório e realizando o download do dataset\n",
        "%mkdir -p ~/.kaggle && cp kaggle.json ~/.kaggle/\n",
        "!chmod 600 ~/.kaggle/kaggle.json\n",
        "!kaggle datasets download -d antonioskokiantonis/newscsv --force"
      ]
    },
    {
      "cell_type": "code",
      "execution_count": 4,
      "metadata": {
        "id": "rPeGmr4VZAC8"
      },
      "outputs": [],
      "source": [
        "# descompactando o arquivo zipado\n",
        "%%capture\n",
        "!unzip /content/newscsv.zip"
      ]
    },
    {
      "cell_type": "code",
      "execution_count": 5,
      "metadata": {
        "id": "HBwzjUd9ZABa"
      },
      "outputs": [],
      "source": [
        "# removendo o arquivo zipado do ambiente\n",
        "%rm -rf newscsv.zip"
      ]
    },
    {
      "cell_type": "code",
      "execution_count": 6,
      "metadata": {
        "id": "s59Gbg8ZZACM"
      },
      "outputs": [],
      "source": [
        "# importando as bibliotecas iniciais\n",
        "import pandas as pd\n",
        "import numpy as np\n",
        "import warnings\n",
        "\n",
        "warnings.filterwarnings('ignore')"
      ]
    },
    {
      "cell_type": "code",
      "execution_count": 7,
      "metadata": {
        "colab": {
          "base_uri": "https://localhost:8080/",
          "height": 206
        },
        "id": "kACj6ivGZAAq",
        "outputId": "633b3ecf-07b5-4d1b-bf54-5483dae7fa91"
      },
      "outputs": [
        {
          "output_type": "execute_result",
          "data": {
            "text/plain": [
              "   Unnamed: 0                                              title  \\\n",
              "0        8476                       You Can Smell Hillary’s Fear   \n",
              "1       10294  Watch The Exact Moment Paul Ryan Committed Pol...   \n",
              "2        3608        Kerry to go to Paris in gesture of sympathy   \n",
              "3       10142  Bernie supporters on Twitter erupt in anger ag...   \n",
              "4         875   The Battle of New York: Why This Primary Matters   \n",
              "\n",
              "                                                text label  \n",
              "0  Daniel Greenfield, a Shillman Journalism Fello...  FAKE  \n",
              "1  Google Pinterest Digg Linkedin Reddit Stumbleu...  FAKE  \n",
              "2  U.S. Secretary of State John F. Kerry said Mon...  REAL  \n",
              "3  — Kaydee King (@KaydeeKing) November 9, 2016 T...  FAKE  \n",
              "4  It's primary day in New York and front-runners...  REAL  "
            ],
            "text/html": [
              "\n",
              "  <div id=\"df-b8120e68-e331-4a29-a3cd-b4928c5231a1\">\n",
              "    <div class=\"colab-df-container\">\n",
              "      <div>\n",
              "<style scoped>\n",
              "    .dataframe tbody tr th:only-of-type {\n",
              "        vertical-align: middle;\n",
              "    }\n",
              "\n",
              "    .dataframe tbody tr th {\n",
              "        vertical-align: top;\n",
              "    }\n",
              "\n",
              "    .dataframe thead th {\n",
              "        text-align: right;\n",
              "    }\n",
              "</style>\n",
              "<table border=\"1\" class=\"dataframe\">\n",
              "  <thead>\n",
              "    <tr style=\"text-align: right;\">\n",
              "      <th></th>\n",
              "      <th>Unnamed: 0</th>\n",
              "      <th>title</th>\n",
              "      <th>text</th>\n",
              "      <th>label</th>\n",
              "    </tr>\n",
              "  </thead>\n",
              "  <tbody>\n",
              "    <tr>\n",
              "      <th>0</th>\n",
              "      <td>8476</td>\n",
              "      <td>You Can Smell Hillary’s Fear</td>\n",
              "      <td>Daniel Greenfield, a Shillman Journalism Fello...</td>\n",
              "      <td>FAKE</td>\n",
              "    </tr>\n",
              "    <tr>\n",
              "      <th>1</th>\n",
              "      <td>10294</td>\n",
              "      <td>Watch The Exact Moment Paul Ryan Committed Pol...</td>\n",
              "      <td>Google Pinterest Digg Linkedin Reddit Stumbleu...</td>\n",
              "      <td>FAKE</td>\n",
              "    </tr>\n",
              "    <tr>\n",
              "      <th>2</th>\n",
              "      <td>3608</td>\n",
              "      <td>Kerry to go to Paris in gesture of sympathy</td>\n",
              "      <td>U.S. Secretary of State John F. Kerry said Mon...</td>\n",
              "      <td>REAL</td>\n",
              "    </tr>\n",
              "    <tr>\n",
              "      <th>3</th>\n",
              "      <td>10142</td>\n",
              "      <td>Bernie supporters on Twitter erupt in anger ag...</td>\n",
              "      <td>— Kaydee King (@KaydeeKing) November 9, 2016 T...</td>\n",
              "      <td>FAKE</td>\n",
              "    </tr>\n",
              "    <tr>\n",
              "      <th>4</th>\n",
              "      <td>875</td>\n",
              "      <td>The Battle of New York: Why This Primary Matters</td>\n",
              "      <td>It's primary day in New York and front-runners...</td>\n",
              "      <td>REAL</td>\n",
              "    </tr>\n",
              "  </tbody>\n",
              "</table>\n",
              "</div>\n",
              "      <button class=\"colab-df-convert\" onclick=\"convertToInteractive('df-b8120e68-e331-4a29-a3cd-b4928c5231a1')\"\n",
              "              title=\"Convert this dataframe to an interactive table.\"\n",
              "              style=\"display:none;\">\n",
              "        \n",
              "  <svg xmlns=\"http://www.w3.org/2000/svg\" height=\"24px\"viewBox=\"0 0 24 24\"\n",
              "       width=\"24px\">\n",
              "    <path d=\"M0 0h24v24H0V0z\" fill=\"none\"/>\n",
              "    <path d=\"M18.56 5.44l.94 2.06.94-2.06 2.06-.94-2.06-.94-.94-2.06-.94 2.06-2.06.94zm-11 1L8.5 8.5l.94-2.06 2.06-.94-2.06-.94L8.5 2.5l-.94 2.06-2.06.94zm10 10l.94 2.06.94-2.06 2.06-.94-2.06-.94-.94-2.06-.94 2.06-2.06.94z\"/><path d=\"M17.41 7.96l-1.37-1.37c-.4-.4-.92-.59-1.43-.59-.52 0-1.04.2-1.43.59L10.3 9.45l-7.72 7.72c-.78.78-.78 2.05 0 2.83L4 21.41c.39.39.9.59 1.41.59.51 0 1.02-.2 1.41-.59l7.78-7.78 2.81-2.81c.8-.78.8-2.07 0-2.86zM5.41 20L4 18.59l7.72-7.72 1.47 1.35L5.41 20z\"/>\n",
              "  </svg>\n",
              "      </button>\n",
              "      \n",
              "  <style>\n",
              "    .colab-df-container {\n",
              "      display:flex;\n",
              "      flex-wrap:wrap;\n",
              "      gap: 12px;\n",
              "    }\n",
              "\n",
              "    .colab-df-convert {\n",
              "      background-color: #E8F0FE;\n",
              "      border: none;\n",
              "      border-radius: 50%;\n",
              "      cursor: pointer;\n",
              "      display: none;\n",
              "      fill: #1967D2;\n",
              "      height: 32px;\n",
              "      padding: 0 0 0 0;\n",
              "      width: 32px;\n",
              "    }\n",
              "\n",
              "    .colab-df-convert:hover {\n",
              "      background-color: #E2EBFA;\n",
              "      box-shadow: 0px 1px 2px rgba(60, 64, 67, 0.3), 0px 1px 3px 1px rgba(60, 64, 67, 0.15);\n",
              "      fill: #174EA6;\n",
              "    }\n",
              "\n",
              "    [theme=dark] .colab-df-convert {\n",
              "      background-color: #3B4455;\n",
              "      fill: #D2E3FC;\n",
              "    }\n",
              "\n",
              "    [theme=dark] .colab-df-convert:hover {\n",
              "      background-color: #434B5C;\n",
              "      box-shadow: 0px 1px 3px 1px rgba(0, 0, 0, 0.15);\n",
              "      filter: drop-shadow(0px 1px 2px rgba(0, 0, 0, 0.3));\n",
              "      fill: #FFFFFF;\n",
              "    }\n",
              "  </style>\n",
              "\n",
              "      <script>\n",
              "        const buttonEl =\n",
              "          document.querySelector('#df-b8120e68-e331-4a29-a3cd-b4928c5231a1 button.colab-df-convert');\n",
              "        buttonEl.style.display =\n",
              "          google.colab.kernel.accessAllowed ? 'block' : 'none';\n",
              "\n",
              "        async function convertToInteractive(key) {\n",
              "          const element = document.querySelector('#df-b8120e68-e331-4a29-a3cd-b4928c5231a1');\n",
              "          const dataTable =\n",
              "            await google.colab.kernel.invokeFunction('convertToInteractive',\n",
              "                                                     [key], {});\n",
              "          if (!dataTable) return;\n",
              "\n",
              "          const docLinkHtml = 'Like what you see? Visit the ' +\n",
              "            '<a target=\"_blank\" href=https://colab.research.google.com/notebooks/data_table.ipynb>data table notebook</a>'\n",
              "            + ' to learn more about interactive tables.';\n",
              "          element.innerHTML = '';\n",
              "          dataTable['output_type'] = 'display_data';\n",
              "          await google.colab.output.renderOutput(dataTable, element);\n",
              "          const docLink = document.createElement('div');\n",
              "          docLink.innerHTML = docLinkHtml;\n",
              "          element.appendChild(docLink);\n",
              "        }\n",
              "      </script>\n",
              "    </div>\n",
              "  </div>\n",
              "  "
            ]
          },
          "metadata": {},
          "execution_count": 7
        }
      ],
      "source": [
        "# carregando o dataset no objeto \"data\"\n",
        "data = pd.read_csv('news.csv')\n",
        "\n",
        "# visualizando as 5 primeiras observações do conjunto de dados\n",
        "data.head()"
      ]
    },
    {
      "cell_type": "code",
      "execution_count": 8,
      "metadata": {
        "colab": {
          "base_uri": "https://localhost:8080/",
          "height": 206
        },
        "id": "N9Z35kruY__2",
        "outputId": "eec9d1f7-2177-466a-a79e-c18351a96a8e"
      },
      "outputs": [
        {
          "output_type": "execute_result",
          "data": {
            "text/plain": [
              "   index                                              title  \\\n",
              "0   8476                       You Can Smell Hillary’s Fear   \n",
              "1  10294  Watch The Exact Moment Paul Ryan Committed Pol...   \n",
              "2   3608        Kerry to go to Paris in gesture of sympathy   \n",
              "3  10142  Bernie supporters on Twitter erupt in anger ag...   \n",
              "4    875   The Battle of New York: Why This Primary Matters   \n",
              "\n",
              "                                                text label  \n",
              "0  Daniel Greenfield, a Shillman Journalism Fello...  FAKE  \n",
              "1  Google Pinterest Digg Linkedin Reddit Stumbleu...  FAKE  \n",
              "2  U.S. Secretary of State John F. Kerry said Mon...  REAL  \n",
              "3  — Kaydee King (@KaydeeKing) November 9, 2016 T...  FAKE  \n",
              "4  It's primary day in New York and front-runners...  REAL  "
            ],
            "text/html": [
              "\n",
              "  <div id=\"df-16037dc2-8fb0-470e-8b33-f825a347becb\">\n",
              "    <div class=\"colab-df-container\">\n",
              "      <div>\n",
              "<style scoped>\n",
              "    .dataframe tbody tr th:only-of-type {\n",
              "        vertical-align: middle;\n",
              "    }\n",
              "\n",
              "    .dataframe tbody tr th {\n",
              "        vertical-align: top;\n",
              "    }\n",
              "\n",
              "    .dataframe thead th {\n",
              "        text-align: right;\n",
              "    }\n",
              "</style>\n",
              "<table border=\"1\" class=\"dataframe\">\n",
              "  <thead>\n",
              "    <tr style=\"text-align: right;\">\n",
              "      <th></th>\n",
              "      <th>index</th>\n",
              "      <th>title</th>\n",
              "      <th>text</th>\n",
              "      <th>label</th>\n",
              "    </tr>\n",
              "  </thead>\n",
              "  <tbody>\n",
              "    <tr>\n",
              "      <th>0</th>\n",
              "      <td>8476</td>\n",
              "      <td>You Can Smell Hillary’s Fear</td>\n",
              "      <td>Daniel Greenfield, a Shillman Journalism Fello...</td>\n",
              "      <td>FAKE</td>\n",
              "    </tr>\n",
              "    <tr>\n",
              "      <th>1</th>\n",
              "      <td>10294</td>\n",
              "      <td>Watch The Exact Moment Paul Ryan Committed Pol...</td>\n",
              "      <td>Google Pinterest Digg Linkedin Reddit Stumbleu...</td>\n",
              "      <td>FAKE</td>\n",
              "    </tr>\n",
              "    <tr>\n",
              "      <th>2</th>\n",
              "      <td>3608</td>\n",
              "      <td>Kerry to go to Paris in gesture of sympathy</td>\n",
              "      <td>U.S. Secretary of State John F. Kerry said Mon...</td>\n",
              "      <td>REAL</td>\n",
              "    </tr>\n",
              "    <tr>\n",
              "      <th>3</th>\n",
              "      <td>10142</td>\n",
              "      <td>Bernie supporters on Twitter erupt in anger ag...</td>\n",
              "      <td>— Kaydee King (@KaydeeKing) November 9, 2016 T...</td>\n",
              "      <td>FAKE</td>\n",
              "    </tr>\n",
              "    <tr>\n",
              "      <th>4</th>\n",
              "      <td>875</td>\n",
              "      <td>The Battle of New York: Why This Primary Matters</td>\n",
              "      <td>It's primary day in New York and front-runners...</td>\n",
              "      <td>REAL</td>\n",
              "    </tr>\n",
              "  </tbody>\n",
              "</table>\n",
              "</div>\n",
              "      <button class=\"colab-df-convert\" onclick=\"convertToInteractive('df-16037dc2-8fb0-470e-8b33-f825a347becb')\"\n",
              "              title=\"Convert this dataframe to an interactive table.\"\n",
              "              style=\"display:none;\">\n",
              "        \n",
              "  <svg xmlns=\"http://www.w3.org/2000/svg\" height=\"24px\"viewBox=\"0 0 24 24\"\n",
              "       width=\"24px\">\n",
              "    <path d=\"M0 0h24v24H0V0z\" fill=\"none\"/>\n",
              "    <path d=\"M18.56 5.44l.94 2.06.94-2.06 2.06-.94-2.06-.94-.94-2.06-.94 2.06-2.06.94zm-11 1L8.5 8.5l.94-2.06 2.06-.94-2.06-.94L8.5 2.5l-.94 2.06-2.06.94zm10 10l.94 2.06.94-2.06 2.06-.94-2.06-.94-.94-2.06-.94 2.06-2.06.94z\"/><path d=\"M17.41 7.96l-1.37-1.37c-.4-.4-.92-.59-1.43-.59-.52 0-1.04.2-1.43.59L10.3 9.45l-7.72 7.72c-.78.78-.78 2.05 0 2.83L4 21.41c.39.39.9.59 1.41.59.51 0 1.02-.2 1.41-.59l7.78-7.78 2.81-2.81c.8-.78.8-2.07 0-2.86zM5.41 20L4 18.59l7.72-7.72 1.47 1.35L5.41 20z\"/>\n",
              "  </svg>\n",
              "      </button>\n",
              "      \n",
              "  <style>\n",
              "    .colab-df-container {\n",
              "      display:flex;\n",
              "      flex-wrap:wrap;\n",
              "      gap: 12px;\n",
              "    }\n",
              "\n",
              "    .colab-df-convert {\n",
              "      background-color: #E8F0FE;\n",
              "      border: none;\n",
              "      border-radius: 50%;\n",
              "      cursor: pointer;\n",
              "      display: none;\n",
              "      fill: #1967D2;\n",
              "      height: 32px;\n",
              "      padding: 0 0 0 0;\n",
              "      width: 32px;\n",
              "    }\n",
              "\n",
              "    .colab-df-convert:hover {\n",
              "      background-color: #E2EBFA;\n",
              "      box-shadow: 0px 1px 2px rgba(60, 64, 67, 0.3), 0px 1px 3px 1px rgba(60, 64, 67, 0.15);\n",
              "      fill: #174EA6;\n",
              "    }\n",
              "\n",
              "    [theme=dark] .colab-df-convert {\n",
              "      background-color: #3B4455;\n",
              "      fill: #D2E3FC;\n",
              "    }\n",
              "\n",
              "    [theme=dark] .colab-df-convert:hover {\n",
              "      background-color: #434B5C;\n",
              "      box-shadow: 0px 1px 3px 1px rgba(0, 0, 0, 0.15);\n",
              "      filter: drop-shadow(0px 1px 2px rgba(0, 0, 0, 0.3));\n",
              "      fill: #FFFFFF;\n",
              "    }\n",
              "  </style>\n",
              "\n",
              "      <script>\n",
              "        const buttonEl =\n",
              "          document.querySelector('#df-16037dc2-8fb0-470e-8b33-f825a347becb button.colab-df-convert');\n",
              "        buttonEl.style.display =\n",
              "          google.colab.kernel.accessAllowed ? 'block' : 'none';\n",
              "\n",
              "        async function convertToInteractive(key) {\n",
              "          const element = document.querySelector('#df-16037dc2-8fb0-470e-8b33-f825a347becb');\n",
              "          const dataTable =\n",
              "            await google.colab.kernel.invokeFunction('convertToInteractive',\n",
              "                                                     [key], {});\n",
              "          if (!dataTable) return;\n",
              "\n",
              "          const docLinkHtml = 'Like what you see? Visit the ' +\n",
              "            '<a target=\"_blank\" href=https://colab.research.google.com/notebooks/data_table.ipynb>data table notebook</a>'\n",
              "            + ' to learn more about interactive tables.';\n",
              "          element.innerHTML = '';\n",
              "          dataTable['output_type'] = 'display_data';\n",
              "          await google.colab.output.renderOutput(dataTable, element);\n",
              "          const docLink = document.createElement('div');\n",
              "          docLink.innerHTML = docLinkHtml;\n",
              "          element.appendChild(docLink);\n",
              "        }\n",
              "      </script>\n",
              "    </div>\n",
              "  </div>\n",
              "  "
            ]
          },
          "metadata": {},
          "execution_count": 8
        }
      ],
      "source": [
        "# resetando e definindo o índice na coluna \"0\"\n",
        "data = pd.read_csv('news.csv', index_col=0).reset_index()\n",
        "\n",
        "# visualizando novamente as 5 primeiras observações do conjunto de dados\n",
        "data.head() "
      ]
    },
    {
      "cell_type": "code",
      "execution_count": 9,
      "metadata": {
        "colab": {
          "base_uri": "https://localhost:8080/",
          "height": 206
        },
        "id": "6I92vothY_-t",
        "outputId": "645b63fb-4b54-49d9-e416-069202737bb4"
      },
      "outputs": [
        {
          "output_type": "execute_result",
          "data": {
            "text/plain": [
              "                                               title  \\\n",
              "0                       You Can Smell Hillary’s Fear   \n",
              "1  Watch The Exact Moment Paul Ryan Committed Pol...   \n",
              "2        Kerry to go to Paris in gesture of sympathy   \n",
              "3  Bernie supporters on Twitter erupt in anger ag...   \n",
              "4   The Battle of New York: Why This Primary Matters   \n",
              "\n",
              "                                                text label  \n",
              "0  Daniel Greenfield, a Shillman Journalism Fello...  FAKE  \n",
              "1  Google Pinterest Digg Linkedin Reddit Stumbleu...  FAKE  \n",
              "2  U.S. Secretary of State John F. Kerry said Mon...  REAL  \n",
              "3  — Kaydee King (@KaydeeKing) November 9, 2016 T...  FAKE  \n",
              "4  It's primary day in New York and front-runners...  REAL  "
            ],
            "text/html": [
              "\n",
              "  <div id=\"df-33586d42-5073-48ef-9f7d-4077265cc171\">\n",
              "    <div class=\"colab-df-container\">\n",
              "      <div>\n",
              "<style scoped>\n",
              "    .dataframe tbody tr th:only-of-type {\n",
              "        vertical-align: middle;\n",
              "    }\n",
              "\n",
              "    .dataframe tbody tr th {\n",
              "        vertical-align: top;\n",
              "    }\n",
              "\n",
              "    .dataframe thead th {\n",
              "        text-align: right;\n",
              "    }\n",
              "</style>\n",
              "<table border=\"1\" class=\"dataframe\">\n",
              "  <thead>\n",
              "    <tr style=\"text-align: right;\">\n",
              "      <th></th>\n",
              "      <th>title</th>\n",
              "      <th>text</th>\n",
              "      <th>label</th>\n",
              "    </tr>\n",
              "  </thead>\n",
              "  <tbody>\n",
              "    <tr>\n",
              "      <th>0</th>\n",
              "      <td>You Can Smell Hillary’s Fear</td>\n",
              "      <td>Daniel Greenfield, a Shillman Journalism Fello...</td>\n",
              "      <td>FAKE</td>\n",
              "    </tr>\n",
              "    <tr>\n",
              "      <th>1</th>\n",
              "      <td>Watch The Exact Moment Paul Ryan Committed Pol...</td>\n",
              "      <td>Google Pinterest Digg Linkedin Reddit Stumbleu...</td>\n",
              "      <td>FAKE</td>\n",
              "    </tr>\n",
              "    <tr>\n",
              "      <th>2</th>\n",
              "      <td>Kerry to go to Paris in gesture of sympathy</td>\n",
              "      <td>U.S. Secretary of State John F. Kerry said Mon...</td>\n",
              "      <td>REAL</td>\n",
              "    </tr>\n",
              "    <tr>\n",
              "      <th>3</th>\n",
              "      <td>Bernie supporters on Twitter erupt in anger ag...</td>\n",
              "      <td>— Kaydee King (@KaydeeKing) November 9, 2016 T...</td>\n",
              "      <td>FAKE</td>\n",
              "    </tr>\n",
              "    <tr>\n",
              "      <th>4</th>\n",
              "      <td>The Battle of New York: Why This Primary Matters</td>\n",
              "      <td>It's primary day in New York and front-runners...</td>\n",
              "      <td>REAL</td>\n",
              "    </tr>\n",
              "  </tbody>\n",
              "</table>\n",
              "</div>\n",
              "      <button class=\"colab-df-convert\" onclick=\"convertToInteractive('df-33586d42-5073-48ef-9f7d-4077265cc171')\"\n",
              "              title=\"Convert this dataframe to an interactive table.\"\n",
              "              style=\"display:none;\">\n",
              "        \n",
              "  <svg xmlns=\"http://www.w3.org/2000/svg\" height=\"24px\"viewBox=\"0 0 24 24\"\n",
              "       width=\"24px\">\n",
              "    <path d=\"M0 0h24v24H0V0z\" fill=\"none\"/>\n",
              "    <path d=\"M18.56 5.44l.94 2.06.94-2.06 2.06-.94-2.06-.94-.94-2.06-.94 2.06-2.06.94zm-11 1L8.5 8.5l.94-2.06 2.06-.94-2.06-.94L8.5 2.5l-.94 2.06-2.06.94zm10 10l.94 2.06.94-2.06 2.06-.94-2.06-.94-.94-2.06-.94 2.06-2.06.94z\"/><path d=\"M17.41 7.96l-1.37-1.37c-.4-.4-.92-.59-1.43-.59-.52 0-1.04.2-1.43.59L10.3 9.45l-7.72 7.72c-.78.78-.78 2.05 0 2.83L4 21.41c.39.39.9.59 1.41.59.51 0 1.02-.2 1.41-.59l7.78-7.78 2.81-2.81c.8-.78.8-2.07 0-2.86zM5.41 20L4 18.59l7.72-7.72 1.47 1.35L5.41 20z\"/>\n",
              "  </svg>\n",
              "      </button>\n",
              "      \n",
              "  <style>\n",
              "    .colab-df-container {\n",
              "      display:flex;\n",
              "      flex-wrap:wrap;\n",
              "      gap: 12px;\n",
              "    }\n",
              "\n",
              "    .colab-df-convert {\n",
              "      background-color: #E8F0FE;\n",
              "      border: none;\n",
              "      border-radius: 50%;\n",
              "      cursor: pointer;\n",
              "      display: none;\n",
              "      fill: #1967D2;\n",
              "      height: 32px;\n",
              "      padding: 0 0 0 0;\n",
              "      width: 32px;\n",
              "    }\n",
              "\n",
              "    .colab-df-convert:hover {\n",
              "      background-color: #E2EBFA;\n",
              "      box-shadow: 0px 1px 2px rgba(60, 64, 67, 0.3), 0px 1px 3px 1px rgba(60, 64, 67, 0.15);\n",
              "      fill: #174EA6;\n",
              "    }\n",
              "\n",
              "    [theme=dark] .colab-df-convert {\n",
              "      background-color: #3B4455;\n",
              "      fill: #D2E3FC;\n",
              "    }\n",
              "\n",
              "    [theme=dark] .colab-df-convert:hover {\n",
              "      background-color: #434B5C;\n",
              "      box-shadow: 0px 1px 3px 1px rgba(0, 0, 0, 0.15);\n",
              "      filter: drop-shadow(0px 1px 2px rgba(0, 0, 0, 0.3));\n",
              "      fill: #FFFFFF;\n",
              "    }\n",
              "  </style>\n",
              "\n",
              "      <script>\n",
              "        const buttonEl =\n",
              "          document.querySelector('#df-33586d42-5073-48ef-9f7d-4077265cc171 button.colab-df-convert');\n",
              "        buttonEl.style.display =\n",
              "          google.colab.kernel.accessAllowed ? 'block' : 'none';\n",
              "\n",
              "        async function convertToInteractive(key) {\n",
              "          const element = document.querySelector('#df-33586d42-5073-48ef-9f7d-4077265cc171');\n",
              "          const dataTable =\n",
              "            await google.colab.kernel.invokeFunction('convertToInteractive',\n",
              "                                                     [key], {});\n",
              "          if (!dataTable) return;\n",
              "\n",
              "          const docLinkHtml = 'Like what you see? Visit the ' +\n",
              "            '<a target=\"_blank\" href=https://colab.research.google.com/notebooks/data_table.ipynb>data table notebook</a>'\n",
              "            + ' to learn more about interactive tables.';\n",
              "          element.innerHTML = '';\n",
              "          dataTable['output_type'] = 'display_data';\n",
              "          await google.colab.output.renderOutput(dataTable, element);\n",
              "          const docLink = document.createElement('div');\n",
              "          docLink.innerHTML = docLinkHtml;\n",
              "          element.appendChild(docLink);\n",
              "        }\n",
              "      </script>\n",
              "    </div>\n",
              "  </div>\n",
              "  "
            ]
          },
          "metadata": {},
          "execution_count": 9
        }
      ],
      "source": [
        "# excluindo a coluna \"index\"\n",
        "data.drop(labels=['index'], axis=1, inplace=True)\n",
        "\n",
        "# visualizando as 5 primeiras observações do conjunto de dados\n",
        "data.head()"
      ]
    },
    {
      "cell_type": "code",
      "execution_count": 10,
      "metadata": {
        "colab": {
          "base_uri": "https://localhost:8080/"
        },
        "id": "poJYvZUwcOU2",
        "outputId": "609b7448-ef3c-4a32-8dd9-6db5d8180c8f"
      },
      "outputs": [
        {
          "output_type": "stream",
          "name": "stdout",
          "text": [
            "<class 'pandas.core.frame.DataFrame'>\n",
            "RangeIndex: 6335 entries, 0 to 6334\n",
            "Data columns (total 3 columns):\n",
            " #   Column  Non-Null Count  Dtype \n",
            "---  ------  --------------  ----- \n",
            " 0   title   6335 non-null   object\n",
            " 1   text    6335 non-null   object\n",
            " 2   label   6335 non-null   object\n",
            "dtypes: object(3)\n",
            "memory usage: 148.6+ KB\n"
          ]
        }
      ],
      "source": [
        "# visualizando informações gerais\n",
        "data.info()"
      ]
    },
    {
      "cell_type": "code",
      "execution_count": 11,
      "metadata": {
        "colab": {
          "base_uri": "https://localhost:8080/"
        },
        "id": "8do-UMZfcOPU",
        "outputId": "5898d4d9-8c57-4b11-f39d-ee33e6278317"
      },
      "outputs": [
        {
          "output_type": "execute_result",
          "data": {
            "text/plain": [
              "REAL    3171\n",
              "FAKE    3164\n",
              "Name: label, dtype: int64"
            ]
          },
          "metadata": {},
          "execution_count": 11
        }
      ],
      "source": [
        "# contabilizando a quantidade de observações em cada rótulo\n",
        "data['label'].value_counts()"
      ]
    },
    {
      "cell_type": "code",
      "execution_count": 12,
      "metadata": {
        "colab": {
          "base_uri": "https://localhost:8080/",
          "height": 81
        },
        "id": "ztQ62C1QcOCa",
        "outputId": "6603e3d1-4500-4790-c394-a47e147679fe"
      },
      "outputs": [
        {
          "output_type": "execute_result",
          "data": {
            "text/plain": [
              "       count       mean         std  min    25%    50%     75%      max\n",
              "text  6335.0  776.30071  854.333358  0.0  289.0  597.0  1024.0  20891.0"
            ],
            "text/html": [
              "\n",
              "  <div id=\"df-7bfb2f9c-3853-4ce3-a036-a2e41431e348\">\n",
              "    <div class=\"colab-df-container\">\n",
              "      <div>\n",
              "<style scoped>\n",
              "    .dataframe tbody tr th:only-of-type {\n",
              "        vertical-align: middle;\n",
              "    }\n",
              "\n",
              "    .dataframe tbody tr th {\n",
              "        vertical-align: top;\n",
              "    }\n",
              "\n",
              "    .dataframe thead th {\n",
              "        text-align: right;\n",
              "    }\n",
              "</style>\n",
              "<table border=\"1\" class=\"dataframe\">\n",
              "  <thead>\n",
              "    <tr style=\"text-align: right;\">\n",
              "      <th></th>\n",
              "      <th>count</th>\n",
              "      <th>mean</th>\n",
              "      <th>std</th>\n",
              "      <th>min</th>\n",
              "      <th>25%</th>\n",
              "      <th>50%</th>\n",
              "      <th>75%</th>\n",
              "      <th>max</th>\n",
              "    </tr>\n",
              "  </thead>\n",
              "  <tbody>\n",
              "    <tr>\n",
              "      <th>text</th>\n",
              "      <td>6335.0</td>\n",
              "      <td>776.30071</td>\n",
              "      <td>854.333358</td>\n",
              "      <td>0.0</td>\n",
              "      <td>289.0</td>\n",
              "      <td>597.0</td>\n",
              "      <td>1024.0</td>\n",
              "      <td>20891.0</td>\n",
              "    </tr>\n",
              "  </tbody>\n",
              "</table>\n",
              "</div>\n",
              "      <button class=\"colab-df-convert\" onclick=\"convertToInteractive('df-7bfb2f9c-3853-4ce3-a036-a2e41431e348')\"\n",
              "              title=\"Convert this dataframe to an interactive table.\"\n",
              "              style=\"display:none;\">\n",
              "        \n",
              "  <svg xmlns=\"http://www.w3.org/2000/svg\" height=\"24px\"viewBox=\"0 0 24 24\"\n",
              "       width=\"24px\">\n",
              "    <path d=\"M0 0h24v24H0V0z\" fill=\"none\"/>\n",
              "    <path d=\"M18.56 5.44l.94 2.06.94-2.06 2.06-.94-2.06-.94-.94-2.06-.94 2.06-2.06.94zm-11 1L8.5 8.5l.94-2.06 2.06-.94-2.06-.94L8.5 2.5l-.94 2.06-2.06.94zm10 10l.94 2.06.94-2.06 2.06-.94-2.06-.94-.94-2.06-.94 2.06-2.06.94z\"/><path d=\"M17.41 7.96l-1.37-1.37c-.4-.4-.92-.59-1.43-.59-.52 0-1.04.2-1.43.59L10.3 9.45l-7.72 7.72c-.78.78-.78 2.05 0 2.83L4 21.41c.39.39.9.59 1.41.59.51 0 1.02-.2 1.41-.59l7.78-7.78 2.81-2.81c.8-.78.8-2.07 0-2.86zM5.41 20L4 18.59l7.72-7.72 1.47 1.35L5.41 20z\"/>\n",
              "  </svg>\n",
              "      </button>\n",
              "      \n",
              "  <style>\n",
              "    .colab-df-container {\n",
              "      display:flex;\n",
              "      flex-wrap:wrap;\n",
              "      gap: 12px;\n",
              "    }\n",
              "\n",
              "    .colab-df-convert {\n",
              "      background-color: #E8F0FE;\n",
              "      border: none;\n",
              "      border-radius: 50%;\n",
              "      cursor: pointer;\n",
              "      display: none;\n",
              "      fill: #1967D2;\n",
              "      height: 32px;\n",
              "      padding: 0 0 0 0;\n",
              "      width: 32px;\n",
              "    }\n",
              "\n",
              "    .colab-df-convert:hover {\n",
              "      background-color: #E2EBFA;\n",
              "      box-shadow: 0px 1px 2px rgba(60, 64, 67, 0.3), 0px 1px 3px 1px rgba(60, 64, 67, 0.15);\n",
              "      fill: #174EA6;\n",
              "    }\n",
              "\n",
              "    [theme=dark] .colab-df-convert {\n",
              "      background-color: #3B4455;\n",
              "      fill: #D2E3FC;\n",
              "    }\n",
              "\n",
              "    [theme=dark] .colab-df-convert:hover {\n",
              "      background-color: #434B5C;\n",
              "      box-shadow: 0px 1px 3px 1px rgba(0, 0, 0, 0.15);\n",
              "      filter: drop-shadow(0px 1px 2px rgba(0, 0, 0, 0.3));\n",
              "      fill: #FFFFFF;\n",
              "    }\n",
              "  </style>\n",
              "\n",
              "      <script>\n",
              "        const buttonEl =\n",
              "          document.querySelector('#df-7bfb2f9c-3853-4ce3-a036-a2e41431e348 button.colab-df-convert');\n",
              "        buttonEl.style.display =\n",
              "          google.colab.kernel.accessAllowed ? 'block' : 'none';\n",
              "\n",
              "        async function convertToInteractive(key) {\n",
              "          const element = document.querySelector('#df-7bfb2f9c-3853-4ce3-a036-a2e41431e348');\n",
              "          const dataTable =\n",
              "            await google.colab.kernel.invokeFunction('convertToInteractive',\n",
              "                                                     [key], {});\n",
              "          if (!dataTable) return;\n",
              "\n",
              "          const docLinkHtml = 'Like what you see? Visit the ' +\n",
              "            '<a target=\"_blank\" href=https://colab.research.google.com/notebooks/data_table.ipynb>data table notebook</a>'\n",
              "            + ' to learn more about interactive tables.';\n",
              "          element.innerHTML = '';\n",
              "          dataTable['output_type'] = 'display_data';\n",
              "          await google.colab.output.renderOutput(dataTable, element);\n",
              "          const docLink = document.createElement('div');\n",
              "          docLink.innerHTML = docLinkHtml;\n",
              "          element.appendChild(docLink);\n",
              "        }\n",
              "      </script>\n",
              "    </div>\n",
              "  </div>\n",
              "  "
            ]
          },
          "metadata": {},
          "execution_count": 12
        }
      ],
      "source": [
        "# estatística da coluna \"text\"\n",
        "txt_length = data.text.str.split().str.len()\n",
        "\n",
        "pd.DataFrame(txt_length.describe()).T"
      ]
    },
    {
      "cell_type": "code",
      "execution_count": 13,
      "metadata": {
        "colab": {
          "base_uri": "https://localhost:8080/",
          "height": 81
        },
        "id": "PH_Ja7HMcNqL",
        "outputId": "6cdb7160-19b8-4b3d-f022-af643bf0104d"
      },
      "outputs": [
        {
          "output_type": "execute_result",
          "data": {
            "text/plain": [
              "        count       mean       std  min  25%   50%   75%   max\n",
              "title  6335.0  10.496448  3.985165  1.0  8.0  10.0  13.0  53.0"
            ],
            "text/html": [
              "\n",
              "  <div id=\"df-25a9bf63-bee4-480e-8a37-f6e139cc7b6f\">\n",
              "    <div class=\"colab-df-container\">\n",
              "      <div>\n",
              "<style scoped>\n",
              "    .dataframe tbody tr th:only-of-type {\n",
              "        vertical-align: middle;\n",
              "    }\n",
              "\n",
              "    .dataframe tbody tr th {\n",
              "        vertical-align: top;\n",
              "    }\n",
              "\n",
              "    .dataframe thead th {\n",
              "        text-align: right;\n",
              "    }\n",
              "</style>\n",
              "<table border=\"1\" class=\"dataframe\">\n",
              "  <thead>\n",
              "    <tr style=\"text-align: right;\">\n",
              "      <th></th>\n",
              "      <th>count</th>\n",
              "      <th>mean</th>\n",
              "      <th>std</th>\n",
              "      <th>min</th>\n",
              "      <th>25%</th>\n",
              "      <th>50%</th>\n",
              "      <th>75%</th>\n",
              "      <th>max</th>\n",
              "    </tr>\n",
              "  </thead>\n",
              "  <tbody>\n",
              "    <tr>\n",
              "      <th>title</th>\n",
              "      <td>6335.0</td>\n",
              "      <td>10.496448</td>\n",
              "      <td>3.985165</td>\n",
              "      <td>1.0</td>\n",
              "      <td>8.0</td>\n",
              "      <td>10.0</td>\n",
              "      <td>13.0</td>\n",
              "      <td>53.0</td>\n",
              "    </tr>\n",
              "  </tbody>\n",
              "</table>\n",
              "</div>\n",
              "      <button class=\"colab-df-convert\" onclick=\"convertToInteractive('df-25a9bf63-bee4-480e-8a37-f6e139cc7b6f')\"\n",
              "              title=\"Convert this dataframe to an interactive table.\"\n",
              "              style=\"display:none;\">\n",
              "        \n",
              "  <svg xmlns=\"http://www.w3.org/2000/svg\" height=\"24px\"viewBox=\"0 0 24 24\"\n",
              "       width=\"24px\">\n",
              "    <path d=\"M0 0h24v24H0V0z\" fill=\"none\"/>\n",
              "    <path d=\"M18.56 5.44l.94 2.06.94-2.06 2.06-.94-2.06-.94-.94-2.06-.94 2.06-2.06.94zm-11 1L8.5 8.5l.94-2.06 2.06-.94-2.06-.94L8.5 2.5l-.94 2.06-2.06.94zm10 10l.94 2.06.94-2.06 2.06-.94-2.06-.94-.94-2.06-.94 2.06-2.06.94z\"/><path d=\"M17.41 7.96l-1.37-1.37c-.4-.4-.92-.59-1.43-.59-.52 0-1.04.2-1.43.59L10.3 9.45l-7.72 7.72c-.78.78-.78 2.05 0 2.83L4 21.41c.39.39.9.59 1.41.59.51 0 1.02-.2 1.41-.59l7.78-7.78 2.81-2.81c.8-.78.8-2.07 0-2.86zM5.41 20L4 18.59l7.72-7.72 1.47 1.35L5.41 20z\"/>\n",
              "  </svg>\n",
              "      </button>\n",
              "      \n",
              "  <style>\n",
              "    .colab-df-container {\n",
              "      display:flex;\n",
              "      flex-wrap:wrap;\n",
              "      gap: 12px;\n",
              "    }\n",
              "\n",
              "    .colab-df-convert {\n",
              "      background-color: #E8F0FE;\n",
              "      border: none;\n",
              "      border-radius: 50%;\n",
              "      cursor: pointer;\n",
              "      display: none;\n",
              "      fill: #1967D2;\n",
              "      height: 32px;\n",
              "      padding: 0 0 0 0;\n",
              "      width: 32px;\n",
              "    }\n",
              "\n",
              "    .colab-df-convert:hover {\n",
              "      background-color: #E2EBFA;\n",
              "      box-shadow: 0px 1px 2px rgba(60, 64, 67, 0.3), 0px 1px 3px 1px rgba(60, 64, 67, 0.15);\n",
              "      fill: #174EA6;\n",
              "    }\n",
              "\n",
              "    [theme=dark] .colab-df-convert {\n",
              "      background-color: #3B4455;\n",
              "      fill: #D2E3FC;\n",
              "    }\n",
              "\n",
              "    [theme=dark] .colab-df-convert:hover {\n",
              "      background-color: #434B5C;\n",
              "      box-shadow: 0px 1px 3px 1px rgba(0, 0, 0, 0.15);\n",
              "      filter: drop-shadow(0px 1px 2px rgba(0, 0, 0, 0.3));\n",
              "      fill: #FFFFFF;\n",
              "    }\n",
              "  </style>\n",
              "\n",
              "      <script>\n",
              "        const buttonEl =\n",
              "          document.querySelector('#df-25a9bf63-bee4-480e-8a37-f6e139cc7b6f button.colab-df-convert');\n",
              "        buttonEl.style.display =\n",
              "          google.colab.kernel.accessAllowed ? 'block' : 'none';\n",
              "\n",
              "        async function convertToInteractive(key) {\n",
              "          const element = document.querySelector('#df-25a9bf63-bee4-480e-8a37-f6e139cc7b6f');\n",
              "          const dataTable =\n",
              "            await google.colab.kernel.invokeFunction('convertToInteractive',\n",
              "                                                     [key], {});\n",
              "          if (!dataTable) return;\n",
              "\n",
              "          const docLinkHtml = 'Like what you see? Visit the ' +\n",
              "            '<a target=\"_blank\" href=https://colab.research.google.com/notebooks/data_table.ipynb>data table notebook</a>'\n",
              "            + ' to learn more about interactive tables.';\n",
              "          element.innerHTML = '';\n",
              "          dataTable['output_type'] = 'display_data';\n",
              "          await google.colab.output.renderOutput(dataTable, element);\n",
              "          const docLink = document.createElement('div');\n",
              "          docLink.innerHTML = docLinkHtml;\n",
              "          element.appendChild(docLink);\n",
              "        }\n",
              "      </script>\n",
              "    </div>\n",
              "  </div>\n",
              "  "
            ]
          },
          "metadata": {},
          "execution_count": 13
        }
      ],
      "source": [
        "# estatística da coluna \"title\"\n",
        "title_length = data.title.str.split().str.len()\n",
        "\n",
        "pd.DataFrame(title_length.describe()).T"
      ]
    },
    {
      "cell_type": "code",
      "execution_count": 14,
      "metadata": {
        "id": "eS43M_SQb3EL"
      },
      "outputs": [],
      "source": [
        "# importando função para realizar a transformação do rótulo categórico para numérico\n",
        "from sklearn.preprocessing import LabelEncoder"
      ]
    },
    {
      "cell_type": "code",
      "execution_count": 15,
      "metadata": {
        "id": "0daAA4Z1b3Cu"
      },
      "outputs": [],
      "source": [
        "# instanciando o objeto\n",
        "le = LabelEncoder()\n",
        "\n",
        "# aplicando o objeto na \"feature\" de interesse, nesse caso a \"label\"\n",
        "data['label'] = le.fit_transform(data['label'])"
      ]
    },
    {
      "cell_type": "code",
      "execution_count": 16,
      "metadata": {
        "colab": {
          "base_uri": "https://localhost:8080/"
        },
        "id": "EJd2x-Tab20G",
        "outputId": "83f09162-e571-4069-9bf1-257d5b19136a"
      },
      "outputs": [
        {
          "output_type": "execute_result",
          "data": {
            "text/plain": [
              "array([0, 1])"
            ]
          },
          "metadata": {},
          "execution_count": 16
        }
      ],
      "source": [
        "# visualizando os valores únicos presente no atributo alvo\n",
        "data['label'].unique()"
      ]
    },
    {
      "cell_type": "code",
      "execution_count": 17,
      "metadata": {
        "colab": {
          "base_uri": "https://localhost:8080/"
        },
        "id": "LOzXofjbFHtd",
        "outputId": "476583be-df99-4a1a-f710-8e3038ef4f25"
      },
      "outputs": [
        {
          "output_type": "execute_result",
          "data": {
            "text/plain": [
              "title    0\n",
              "text     0\n",
              "label    0\n",
              "dtype: int64"
            ]
          },
          "metadata": {},
          "execution_count": 17
        }
      ],
      "source": [
        "# visualizando valores nulos/ausentes\n",
        "data.isna().sum()"
      ]
    },
    {
      "cell_type": "code",
      "execution_count": 18,
      "metadata": {
        "id": "GrJM9_AChlRy"
      },
      "outputs": [],
      "source": [
        "# importando as bibliotecas e as funções/módulos para construção e avaliação do modelo\n",
        "import tensorflow as tf\n",
        "\n",
        "from sklearn.model_selection import train_test_split\n",
        "\n",
        "from keras.preprocessing.text import Tokenizer\n",
        "from keras.utils import pad_sequences\n",
        "from keras.optimizers import Adam\n",
        "from keras.callbacks import EarlyStopping"
      ]
    },
    {
      "cell_type": "code",
      "execution_count": 19,
      "metadata": {
        "id": "N86-qiQdhlQB"
      },
      "outputs": [],
      "source": [
        "compile_hp = dict()\n",
        "\n",
        "compile_hp['loss'] = 'binary_crossentropy'\n",
        "compile_hp['optimizer'] = Adam(learning_rate=0.001)\n",
        "compile_hp['metrics'] = ['accuracy']\n",
        "compile_hp['maxlen'] = 500\n",
        "\n",
        "# ajustando hiperparâmetros\n",
        "fit_hp = dict()\n",
        "\n",
        "fit_hp['batch_size'] = 64\n",
        "fit_hp['epochs'] = 100\n",
        "fit_hp['validation_split'] = 0.3\n",
        "\n",
        "# criando o \"callback\" para selecionar o melhor modelo\n",
        "fit_hp['callbacks'] = EarlyStopping(monitor='val_loss',\n",
        "                                    mode='min',\n",
        "                                    restore_best_weights = True,\n",
        "                                    patience=10)\n",
        "\n",
        "# eliminnado o \"verbose\" para ter um notebook mais organizado\n",
        "fit_hp['verbose'] = 0"
      ]
    },
    {
      "cell_type": "code",
      "execution_count": 20,
      "metadata": {
        "id": "amsY-ntFY_qN"
      },
      "outputs": [],
      "source": [
        "def tokenize_padder(train_text, test_text,\n",
        "                    chars_to_filter='!\"#$%&()*+,-./:;<=>?@[\\\\]^_`{|}~\\t\\n',\n",
        "                    oov_token='OOV', maxlen=500, \n",
        "                    padding='pre', truncating='post'):\n",
        "    \n",
        "    # criando o objeto \"tokenizer\"\n",
        "    tokenizer = Tokenizer(filters=chars_to_filter,\n",
        "                          oov_token=oov_token)\n",
        "\n",
        "    # ajustando (treinando) o tokenizador apenas aos dados de treinamento\n",
        "    tokenizer.fit_on_texts(train_text)\n",
        "\n",
        "    # gerando sequências dos dados: treino e teste\n",
        "    train_sequences = tokenizer.texts_to_sequences(train_text)\n",
        "    test_sequences = tokenizer.texts_to_sequences(test_text)\n",
        "\n",
        "    # utilizando o módulo/função \"pad_sequences\" para instanciar os dados de treino e teste\n",
        "    # o pré-preenchimento é empiricamente melhor para modelagem de sequência\n",
        "    # o pós-truncamento garante que os títulos sejam incluídos nas observações\n",
        "    train_padded = pad_sequences(train_sequences, maxlen=maxlen, \n",
        "                                 padding=padding, truncating=truncating)\n",
        "    test_padded = pad_sequences(test_sequences, maxlen=maxlen, padding=padding, \n",
        "                                truncating=truncating)\n",
        "\n",
        "    return tokenizer, train_padded, test_padded"
      ]
    },
    {
      "cell_type": "code",
      "execution_count": 21,
      "metadata": {
        "id": "qkYrbwJXY_nk"
      },
      "outputs": [],
      "source": [
        "# instanciando os dados da variável explicativa (X) e da variável resposta (y)\n",
        "X = data.text.values\n",
        "y = np.array(data['label'], dtype='float32')"
      ]
    },
    {
      "cell_type": "code",
      "execution_count": 23,
      "metadata": {
        "id": "4CrqtjrIaFlI"
      },
      "outputs": [],
      "source": [
        "# separando os dados de treino e teste\n",
        "text_train, text_test, y_train, y_test = train_test_split(X, y, \n",
        "                                                          test_size=0.3, \n",
        "                                                          shuffle=True,\n",
        "                                                          random_state=1522)\n",
        "\n",
        "# utilizando a função \"tokenize_padder\" para realizar \n",
        "# o processamento, tokenização e pad dos dados de \"text_train\" e \"text_test\"\n",
        "tokenizer, X_train, X_test = tokenize_padder(text_train, text_test)"
      ]
    },
    {
      "cell_type": "code",
      "execution_count": 24,
      "metadata": {
        "id": "fJwW4yCDaFjG"
      },
      "outputs": [],
      "source": [
        "# importando a bibliteca e os módulos/funções\n",
        "import spacy\n",
        "\n",
        "from keras.initializers import Constant\n",
        "from keras.layers import Embedding"
      ]
    },
    {
      "cell_type": "code",
      "execution_count": 25,
      "metadata": {
        "id": "beid8xndm7kI"
      },
      "outputs": [],
      "source": [
        "def spacy_embedding(tokenizer, maxlen=500, show_progress=False):\n",
        "\n",
        "    # carregando o pipeline \"spacy\"\n",
        "    nlp = spacy.load('en_core_web_sm')\n",
        "    # obtendo o tamanho do vocabulário do tokenizer\n",
        "    vocab_size = len(tokenizer.word_index) + 1\n",
        "    # obtendo o número de dimensões de incorporação que o SpaCy usa\n",
        "    embedding_dim = nlp('any_word').vector.shape[0]\n",
        "    # criando uma matriz para usar na camada de incorporação (embedding layer)\n",
        "    embedding_matrix = np.zeros((vocab_size, embedding_dim))\n",
        "\n",
        "    # iterando através do nosso vocabulário, mapeando palavras para incorporação ao espacial (spacy embedding )\n",
        "    # OBS: isso vai demorar um pouco para executar\n",
        "    for i, word in enumerate(tokenizer.word_index):\n",
        "        embedding_matrix[i] = nlp(word).vector\n",
        "        # mostrando o progresso, se desejado\n",
        "        if show_progress:\n",
        "            if i % 10000 == 0 and i > 0:\n",
        "                print(f'[COMPLETE]: {round(i*100/vocab_size, 2)}%')\n",
        "\n",
        "\n",
        "    # carregando a matriz de incorporação (embedding matrix) como a matriz de pesos para a camada de incorporação (embedding layer)\n",
        "    # definindo o treinável como Falso, pois a camada já está \"aprendida\"\n",
        "    Embedding_layer = Embedding(\n",
        "        vocab_size,\n",
        "        embedding_dim,\n",
        "        input_length=maxlen,\n",
        "        embeddings_initializer=Constant(embedding_matrix),\n",
        "        trainable=False,\n",
        "        name='spacy_embedding')\n",
        "\n",
        "    return Embedding_layer"
      ]
    },
    {
      "cell_type": "code",
      "execution_count": 26,
      "metadata": {
        "id": "KJE-w0-saFiJ"
      },
      "outputs": [],
      "source": [
        "def keras_embedding(tokenizer, embedding_dim=256, maxlen=500):\n",
        "\n",
        "    # obtendo o tamanho do vocabulário do tokenizer\n",
        "    vocab_size = len(tokenizer.word_index) + 1\n",
        "\n",
        "    # carregando a matriz de incorporação (embedding matrix) como a matriz de pesos para a camada de incorporação (embedding layer)\n",
        "    # definindo o treinável como Falso, pois a camada já está \"aprendida\"\n",
        "    Embedding_layer = Embedding(\n",
        "        vocab_size,\n",
        "        embedding_dim,\n",
        "        input_length=maxlen,\n",
        "        name='keras_embedding')\n",
        "\n",
        "    return Embedding_layer"
      ]
    },
    {
      "cell_type": "code",
      "execution_count": 27,
      "metadata": {
        "colab": {
          "base_uri": "https://localhost:8080/"
        },
        "id": "jJ4aiZtdaFgW",
        "outputId": "19190e28-ca02-4807-9730-8a3504850013"
      },
      "outputs": [
        {
          "output_type": "stream",
          "name": "stdout",
          "text": [
            "[COMPLETE]: 11.98%\n",
            "[COMPLETE]: 23.96%\n",
            "[COMPLETE]: 35.94%\n",
            "[COMPLETE]: 47.93%\n",
            "[COMPLETE]: 59.91%\n",
            "[COMPLETE]: 71.89%\n",
            "[COMPLETE]: 83.87%\n",
            "[COMPLETE]: 95.85%\n"
          ]
        }
      ],
      "source": [
        "# gerar as incorporações (the embeddings)\n",
        "embed_dict = dict()\n",
        "\n",
        "embed_dict['spacy'] = spacy_embedding(tokenizer, show_progress=True, maxlen=500)\n",
        "embed_dict['keras'] = keras_embedding(tokenizer, maxlen=500)"
      ]
    },
    {
      "cell_type": "code",
      "execution_count": 28,
      "metadata": {
        "id": "Z2bZMNaPqNvO"
      },
      "outputs": [],
      "source": [
        "from keras.layers import Dense, BatchNormalization, Reshape, Activation\n",
        "from keras.layers import Embedding, GRU, Bidirectional\n",
        "from keras import Sequential"
      ]
    },
    {
      "cell_type": "code",
      "execution_count": 29,
      "metadata": {
        "id": "MSY7Ymm2qK5h"
      },
      "outputs": [],
      "source": [
        "def bi_gru(loss='binary_crossentropy', optimizer='adam', metrics=['accuracy'], \n",
        "           batch_normalize=False, embedding=None, maxlen=500, \n",
        "           hidden_dense_units=256, dense_kernel_initializer='glorot_uniform',\n",
        "           rnn_units=32, rnn_kernel_initializer='glorot_uniform'):\n",
        "\n",
        "    # construindo o modelo\n",
        "    model = Sequential(name='GRU')\n",
        "\n",
        "    # adicione incorporação (embedding), se desejar\n",
        "    if embedding:\n",
        "        # \"embedding\" contém forma de entrada\n",
        "        model.add(embedding)\n",
        "    else:\n",
        "        # caso contrário, remodele os dados para trabalhar com GRU\n",
        "        model.add(Reshape((maxlen, 1), input_shape=(maxlen, ), \n",
        "                          name='Reshaping'))\n",
        "\n",
        "    # adicionar GRU\n",
        "    model.add(Bidirectional(GRU(rnn_units, \n",
        "                                kernel_initializer=rnn_kernel_initializer),\n",
        "                                name='Bidirectional_GRU'))\n",
        "\n",
        "    # modelo base (baseline model)\n",
        "    model.add(Dense(hidden_dense_units, name='Linear_Dense',\n",
        "                    kernel_initializer=dense_kernel_initializer))\n",
        "\n",
        "    # modelo normalizado em lote (batch normalised)\n",
        "    if batch_normalize:\n",
        "        model.add(BatchNormalization(name='Batch_Norm1'))\n",
        "\n",
        "    # aplicando ativação não linear, especificada desta forma para ser consistente\n",
        "    # com o papel original (original paper)\n",
        "    model.add(Activation('relu', name='ReLU_Activation'))\n",
        "\n",
        "    # camada de saída (output layer)\n",
        "    model.add(Dense(1, activation='sigmoid', name='Output',\n",
        "                    kernel_initializer=dense_kernel_initializer))\n",
        "    # compilação do modelo (compile model)\n",
        "    model.compile(loss=loss, optimizer=optimizer, metrics=metrics)\n",
        "\n",
        "    return model"
      ]
    },
    {
      "cell_type": "code",
      "execution_count": 30,
      "metadata": {
        "id": "MusSULaTxdDi"
      },
      "outputs": [],
      "source": [
        "def pred_labels(model, X_test):\n",
        "\n",
        "    # realizando as previsões (make predictions) / obtendo as probabilidades brutas (get raw probabilities)\n",
        "    raw_preds = model.predict(X_test)\n",
        "\n",
        "    # convertendo as probabilidades em rótulos\n",
        "    preds = (raw_preds > 0.5).astype(int).reshape(-1)\n",
        "\n",
        "    return preds"
      ]
    },
    {
      "cell_type": "code",
      "execution_count": 31,
      "metadata": {
        "id": "4YM6IV8ZxdGJ"
      },
      "outputs": [],
      "source": [
        "from sklearn.metrics import f1_score, roc_auc_score"
      ]
    },
    {
      "cell_type": "code",
      "execution_count": 32,
      "metadata": {
        "id": "l2-b48kuxdAT"
      },
      "outputs": [],
      "source": [
        "def get_test_metrics(model, X_test, y_test, history, embedding=None, \n",
        "                     batch_normalize=False, verbose=0):\n",
        "    n_epochs = len(history.history['loss'])\n",
        "\n",
        "    # obtendo a acurácia do teste\n",
        "    test_acc = model.evaluate(X_test, y_test, verbose=verbose)[1]\n",
        "\n",
        "    # obtendo as previsões (get raw predictions) / probabilidades brutas para ROC AUC (probabilities for ROC AUC)\n",
        "    probs = model.predict(X_test)\n",
        "    test_roc_auc = roc_auc_score(y_test, probs)\n",
        "\n",
        "    # obtendo as previsões de rótulos para F1\n",
        "    preds = pred_labels(model, X_test)\n",
        "    test_f1 = f1_score(y_test, preds)\n",
        "\n",
        "    # salvando os resultados em um \"data frame\"\n",
        "    results = pd.DataFrame({'embedding': embedding,\n",
        "                            'batch_normalize': batch_normalize,\n",
        "                            'accuracy': test_acc,\n",
        "                            'roc_auc': test_roc_auc, \n",
        "                            'f1': test_f1,\n",
        "                            'epochs': n_epochs}, index=[0])\n",
        "\n",
        "    return results"
      ]
    },
    {
      "cell_type": "code",
      "execution_count": 33,
      "metadata": {
        "id": "IQ4icj876_IA"
      },
      "outputs": [],
      "source": [
        "import matplotlib.pyplot as plt\n",
        "import seaborn as sns\n",
        "\n",
        "%matplotlib inline\n",
        "sns.set_theme(style='ticks', palette='pastel')\n",
        "plt.style.use('ggplot')"
      ]
    },
    {
      "cell_type": "code",
      "execution_count": 34,
      "metadata": {
        "id": "7qOVwKDV6J9p"
      },
      "outputs": [],
      "source": [
        "def plot_loss(history, xlabel='Epochs', ylabel='Loss', title='Loss VS Epochs', \n",
        "              ylim_top=None, metric='loss', metric2='val_loss', \n",
        "              metric_label='Training Loss', metric2_label='Validation Loss'):\n",
        "    \"\"\"\n",
        "    Função para plotar a perda (loss) do modelo.\n",
        "    Toma o histórico, uma instância do histórico do modelo e,\n",
        "    exibe o gráfico embutido\n",
        "    \"\"\"\n",
        "    # mostrando a perda de treinamento e validação VS épocas\n",
        "    fig, ax = plt.subplots(figsize=(12, 7))\n",
        "    ax.plot(history.history[metric], label=metric_label, lw=3)\n",
        "    # adicionando um controle, se você quiser apenas plotar uma métrica\n",
        "    if metric2:\n",
        "        ax.plot(history.history[metric2], label=metric2_label, lw=3)\n",
        "        ax.legend()\n",
        "    # adicionando títulos\n",
        "    ax.set_xlabel(xlabel)\n",
        "    ax.set_ylabel(ylabel)\n",
        "    ax.set_title(title)\n",
        "    ax.set_ylim(top=ylim_top)"
      ]
    },
    {
      "cell_type": "code",
      "execution_count": 35,
      "metadata": {
        "id": "REBs7tLX6NfU"
      },
      "outputs": [],
      "source": [
        "def plot_acc(history, xlabel='Epochs', ylabel='Accuracy', title='Accuracy VS Epochs', \n",
        "             ylim_top=None, metric='accuracy', metric2='val_accuracy', \n",
        "             metric_label='Training Accuracy', metric2_label='Validation Accuracy'):\n",
        "    \"\"\"\n",
        "    Função para plotar a precisão do modelo.\n",
        "    Toma o histórico, uma instância do histórico do modelo e,\n",
        "    exibe o gráfico embutido\n",
        "    \"\"\"\n",
        "    # mostrando a perda de treinamento e validação VS épocas\n",
        "    fig, ax = plt.subplots(figsize=(12, 7))\n",
        "    ax.plot(history.history[metric], label=metric_label, lw=3, color='lightgreen')\n",
        "    # adicionando um controle, se você quiser apenas plotar uma métrica\n",
        "    if metric2:\n",
        "        ax.plot(history.history[metric2], label=metric2_label, lw=3, color='green')\n",
        "        ax.legend()\n",
        "    # adicionando títulos\n",
        "    ax.set_xlabel(xlabel)\n",
        "    ax.set_ylabel(ylabel)\n",
        "    ax.set_title(title)\n",
        "    ax.set_ylim(top=ylim_top)"
      ]
    },
    {
      "cell_type": "code",
      "execution_count": 36,
      "metadata": {
        "id": "JLwO4mhzaFUz"
      },
      "outputs": [],
      "source": [
        "# criando um \"data frame\" para armazenar os resultados de cada modelo no conjunto de teste\n",
        "all_results = pd.DataFrame()"
      ]
    },
    {
      "cell_type": "code",
      "execution_count": 37,
      "metadata": {
        "colab": {
          "base_uri": "https://localhost:8080/"
        },
        "id": "3DSY8RhaqK3F",
        "outputId": "a324a8bd-6094-444d-c8f3-1089636802dd"
      },
      "outputs": [
        {
          "output_type": "stream",
          "name": "stdout",
          "text": [
            "Model: \"GRU\"\n",
            "_________________________________________________________________\n",
            " Layer (type)                Output Shape              Param #   \n",
            "=================================================================\n",
            " keras_embedding (Embedding)  (None, 500, 256)         21366528  \n",
            "                                                                 \n",
            " Bidirectional_GRU (Bidirect  (None, 64)               55680     \n",
            " ional)                                                          \n",
            "                                                                 \n",
            " Linear_Dense (Dense)        (None, 256)               16640     \n",
            "                                                                 \n",
            " Batch_Norm1 (BatchNormaliza  (None, 256)              1024      \n",
            " tion)                                                           \n",
            "                                                                 \n",
            " ReLU_Activation (Activation  (None, 256)              0         \n",
            " )                                                               \n",
            "                                                                 \n",
            " Output (Dense)              (None, 1)                 257       \n",
            "                                                                 \n",
            "=================================================================\n",
            "Total params: 21,440,129\n",
            "Trainable params: 21,439,617\n",
            "Non-trainable params: 512\n",
            "_________________________________________________________________\n"
          ]
        }
      ],
      "source": [
        "# definindo o \"embedding\"\n",
        "embedding_layer = 'keras'\n",
        "# alternando a normalização em lote (batch normalization)\n",
        "batch_normalize = True\n",
        "\n",
        "# construindo e ajustando o modelo com \"embedding\"\n",
        "model_keras = bi_gru(**compile_hp, batch_normalize=batch_normalize,\n",
        "                  embedding=embed_dict[embedding_layer])\n",
        "\n",
        "# visualizando o sumário do modelo\n",
        "model_keras.summary()"
      ]
    },
    {
      "cell_type": "code",
      "execution_count": 38,
      "metadata": {
        "colab": {
          "base_uri": "https://localhost:8080/"
        },
        "id": "5N-J-fEBqK1U",
        "outputId": "5d9d4a77-38d8-46ce-b589-56ba9c0a4c43"
      },
      "outputs": [
        {
          "output_type": "stream",
          "name": "stdout",
          "text": [
            "Epoch 1/30\n",
            "139/139 [==============================] - 13s 46ms/step - loss: 0.4476 - accuracy: 0.7824 - val_loss: 0.6390 - val_accuracy: 0.5187\n",
            "Epoch 2/30\n",
            "139/139 [==============================] - 6s 41ms/step - loss: 0.0964 - accuracy: 0.9664 - val_loss: 0.3823 - val_accuracy: 0.8474\n",
            "Epoch 3/30\n",
            "139/139 [==============================] - 6s 41ms/step - loss: 0.0260 - accuracy: 0.9928 - val_loss: 0.2906 - val_accuracy: 0.8759\n",
            "Epoch 4/30\n",
            "139/139 [==============================] - 6s 41ms/step - loss: 0.0109 - accuracy: 0.9968 - val_loss: 0.4142 - val_accuracy: 0.8653\n",
            "Epoch 5/30\n",
            "139/139 [==============================] - 6s 44ms/step - loss: 0.0031 - accuracy: 0.9998 - val_loss: 0.4194 - val_accuracy: 0.8790\n",
            "Epoch 6/30\n",
            "139/139 [==============================] - 6s 42ms/step - loss: 0.0027 - accuracy: 0.9995 - val_loss: 0.4518 - val_accuracy: 0.8769\n",
            "Epoch 7/30\n",
            "139/139 [==============================] - 6s 46ms/step - loss: 0.0028 - accuracy: 0.9995 - val_loss: 0.5965 - val_accuracy: 0.8595\n",
            "Epoch 8/30\n",
            "139/139 [==============================] - 6s 41ms/step - loss: 0.0083 - accuracy: 0.9973 - val_loss: 0.8253 - val_accuracy: 0.8353\n",
            "Epoch 9/30\n",
            "139/139 [==============================] - 6s 41ms/step - loss: 0.0168 - accuracy: 0.9928 - val_loss: 0.5981 - val_accuracy: 0.8527\n",
            "Epoch 10/30\n",
            "139/139 [==============================] - 6s 41ms/step - loss: 0.0259 - accuracy: 0.9917 - val_loss: 0.8423 - val_accuracy: 0.8417\n",
            "Epoch 11/30\n",
            "139/139 [==============================] - 6s 41ms/step - loss: 0.0232 - accuracy: 0.9910 - val_loss: 0.5670 - val_accuracy: 0.8732\n",
            "Epoch 12/30\n",
            "139/139 [==============================] - 6s 41ms/step - loss: 0.0160 - accuracy: 0.9948 - val_loss: 0.6293 - val_accuracy: 0.8569\n",
            "Epoch 13/30\n",
            "139/139 [==============================] - 6s 41ms/step - loss: 0.0103 - accuracy: 0.9966 - val_loss: 0.6252 - val_accuracy: 0.8832\n",
            "Epoch 14/30\n",
            "139/139 [==============================] - 6s 41ms/step - loss: 0.0047 - accuracy: 0.9984 - val_loss: 0.5178 - val_accuracy: 0.8895\n",
            "Epoch 15/30\n",
            "139/139 [==============================] - 6s 41ms/step - loss: 0.0040 - accuracy: 0.9991 - val_loss: 0.7457 - val_accuracy: 0.8674\n",
            "Epoch 16/30\n",
            "139/139 [==============================] - 6s 41ms/step - loss: 0.0096 - accuracy: 0.9968 - val_loss: 0.5509 - val_accuracy: 0.8727\n",
            "Epoch 17/30\n",
            "139/139 [==============================] - 6s 41ms/step - loss: 0.0056 - accuracy: 0.9980 - val_loss: 0.6372 - val_accuracy: 0.8806\n",
            "Epoch 18/30\n",
            "139/139 [==============================] - 6s 41ms/step - loss: 0.0060 - accuracy: 0.9986 - val_loss: 0.7223 - val_accuracy: 0.8490\n",
            "Epoch 19/30\n",
            "139/139 [==============================] - 6s 41ms/step - loss: 0.0026 - accuracy: 0.9995 - val_loss: 0.9605 - val_accuracy: 0.8443\n",
            "Epoch 20/30\n",
            "139/139 [==============================] - 6s 41ms/step - loss: 0.0049 - accuracy: 0.9989 - val_loss: 0.6360 - val_accuracy: 0.8827\n",
            "Epoch 21/30\n",
            "139/139 [==============================] - 6s 42ms/step - loss: 0.0039 - accuracy: 0.9993 - val_loss: 0.5843 - val_accuracy: 0.8848\n",
            "Epoch 22/30\n",
            "139/139 [==============================] - 6s 41ms/step - loss: 0.0014 - accuracy: 0.9993 - val_loss: 0.6801 - val_accuracy: 0.8722\n",
            "Epoch 23/30\n",
            "139/139 [==============================] - 6s 41ms/step - loss: 0.0045 - accuracy: 0.9984 - val_loss: 0.6927 - val_accuracy: 0.8727\n",
            "Epoch 24/30\n",
            "139/139 [==============================] - 6s 41ms/step - loss: 0.0103 - accuracy: 0.9973 - val_loss: 0.7659 - val_accuracy: 0.8769\n",
            "Epoch 25/30\n",
            "139/139 [==============================] - 6s 41ms/step - loss: 0.0067 - accuracy: 0.9982 - val_loss: 0.6396 - val_accuracy: 0.8785\n",
            "Epoch 26/30\n",
            "139/139 [==============================] - 6s 41ms/step - loss: 0.0039 - accuracy: 0.9984 - val_loss: 0.5523 - val_accuracy: 0.8985\n",
            "Epoch 27/30\n",
            "139/139 [==============================] - 6s 41ms/step - loss: 0.0087 - accuracy: 0.9980 - val_loss: 0.5471 - val_accuracy: 0.8937\n",
            "Epoch 28/30\n",
            "139/139 [==============================] - 6s 41ms/step - loss: 0.0058 - accuracy: 0.9991 - val_loss: 0.6720 - val_accuracy: 0.8869\n",
            "Epoch 29/30\n",
            "139/139 [==============================] - 6s 41ms/step - loss: 0.0038 - accuracy: 0.9986 - val_loss: 0.6928 - val_accuracy: 0.8858\n",
            "Epoch 30/30\n",
            "139/139 [==============================] - 6s 42ms/step - loss: 0.0069 - accuracy: 0.9989 - val_loss: 0.6345 - val_accuracy: 0.8832\n"
          ]
        }
      ],
      "source": [
        "# realizando o treinamento do modelo \"model_keras\"\n",
        "history_keras = model_keras.fit(X_train, y_train, epochs=30, verbose=1, \n",
        "                                validation_data=(X_test, y_test))"
      ]
    },
    {
      "cell_type": "code",
      "execution_count": 39,
      "metadata": {
        "colab": {
          "base_uri": "https://localhost:8080/"
        },
        "id": "IR7F_nRqBDfx",
        "outputId": "aa5311f1-9b22-44cf-c1b4-6c8021b00deb"
      },
      "outputs": [
        {
          "output_type": "execute_result",
          "data": {
            "text/plain": [
              "dict_keys(['loss', 'accuracy', 'val_loss', 'val_accuracy'])"
            ]
          },
          "metadata": {},
          "execution_count": 39
        }
      ],
      "source": [
        "# visualizando as chaves presente no objeto \"history_keras\"\n",
        "history_keras.history.keys()"
      ]
    },
    {
      "cell_type": "code",
      "execution_count": 40,
      "metadata": {
        "colab": {
          "base_uri": "https://localhost:8080/",
          "height": 465
        },
        "id": "weqpbw1sESDs",
        "outputId": "2a61a67f-c067-4843-efff-7452f06164da"
      },
      "outputs": [
        {
          "output_type": "display_data",
          "data": {
            "text/plain": [
              "<Figure size 864x504 with 1 Axes>"
            ],
            "image/png": "[encoded data removed]"
          },
          "metadata": {}
        }
      ],
      "source": [
        "# com a função \"plot_loss()\", plotando o gráfico de perda do modelo\n",
        "plot_loss(history_keras)"
      ]
    },
    {
      "cell_type": "code",
      "execution_count": 41,
      "metadata": {
        "colab": {
          "base_uri": "https://localhost:8080/",
          "height": 465
        },
        "id": "KHNiJjxF5ZIl",
        "outputId": "b4bde90e-5f5b-49cc-aa7b-afffef435f34"
      },
      "outputs": [
        {
          "output_type": "display_data",
          "data": {
            "text/plain": [
              "<Figure size 864x504 with 1 Axes>"
            ],
            "image/png": "[encoded data removed]"
          },
          "metadata": {}
        }
      ],
      "source": [
        "# com a função \"plot_acc()\", plotando o gráfico da acurácia do modelo\n",
        "plot_acc(history_keras)"
      ]
    },
    {
      "cell_type": "code",
      "execution_count": 43,
      "metadata": {
        "colab": {
          "base_uri": "https://localhost:8080/"
        },
        "id": "QKiaqAWlqKyn",
        "outputId": "d9920bb7-97d6-4e1c-b501-b822336b33ac"
      },
      "outputs": [
        {
          "output_type": "stream",
          "name": "stdout",
          "text": [
            "60/60 [==============================] - 1s 11ms/step\n",
            "60/60 [==============================] - 1s 11ms/step\n"
          ]
        }
      ],
      "source": [
        "# com a função \"get_test_metrics\", calculando as métricas do modelo\n",
        "results_keras = get_test_metrics(model_keras, X_test, y_test,\n",
        "                                 history_keras, embedding=embedding_layer,\n",
        "                                 batch_normalize=batch_normalize)\n",
        "\n",
        "# concatenando todos os resultados\n",
        "all_results = pd.concat([all_results, results_keras])"
      ]
    },
    {
      "cell_type": "code",
      "execution_count": 45,
      "metadata": {
        "colab": {
          "base_uri": "https://localhost:8080/"
        },
        "id": "JdJ7qy2awYVD",
        "outputId": "d862b055-6b89-47d3-cd72-5f3f5c52cc5d"
      },
      "outputs": [
        {
          "output_type": "stream",
          "name": "stdout",
          "text": [
            "Model: \"GRU\"\n",
            "_________________________________________________________________\n",
            " Layer (type)                Output Shape              Param #   \n",
            "=================================================================\n",
            " spacy_embedding (Embedding)  (None, 500, 96)          8012448   \n",
            "                                                                 \n",
            " Bidirectional_GRU (Bidirect  (None, 64)               24960     \n",
            " ional)                                                          \n",
            "                                                                 \n",
            " Linear_Dense (Dense)        (None, 256)               16640     \n",
            "                                                                 \n",
            " Batch_Norm1 (BatchNormaliza  (None, 256)              1024      \n",
            " tion)                                                           \n",
            "                                                                 \n",
            " ReLU_Activation (Activation  (None, 256)              0         \n",
            " )                                                               \n",
            "                                                                 \n",
            " Output (Dense)              (None, 1)                 257       \n",
            "                                                                 \n",
            "=================================================================\n",
            "Total params: 8,055,329\n",
            "Trainable params: 42,369\n",
            "Non-trainable params: 8,012,960\n",
            "_________________________________________________________________\n"
          ]
        }
      ],
      "source": [
        "# definindo o \"embedding\"\n",
        "embedding_layer = 'spacy'\n",
        "# alternando a normalização em lote (batch normalization)\n",
        "batch_normalize = True\n",
        "\n",
        "# construindo e ajustando o modelo com \"embedding\"\n",
        "model_spacy = bi_gru(**compile_hp, batch_normalize=batch_normalize,\n",
        "                     embedding=embed_dict[embedding_layer])\n",
        "\n",
        "# visualizando o sumário do modelo\n",
        "model_spacy.summary()"
      ]
    },
    {
      "cell_type": "code",
      "execution_count": 46,
      "metadata": {
        "colab": {
          "base_uri": "https://localhost:8080/"
        },
        "id": "HAGx-BpDwqrI",
        "outputId": "311e4fac-078a-4a27-90f3-f4fc6a910209"
      },
      "outputs": [
        {
          "output_type": "stream",
          "name": "stdout",
          "text": [
            "Epoch 1/30\n",
            "139/139 [==============================] - 9s 43ms/step - loss: 0.5905 - accuracy: 0.7018 - val_loss: 0.5273 - val_accuracy: 0.7380\n",
            "Epoch 2/30\n",
            "139/139 [==============================] - 4s 29ms/step - loss: 0.3864 - accuracy: 0.8257 - val_loss: 0.4988 - val_accuracy: 0.7712\n",
            "Epoch 3/30\n",
            "139/139 [==============================] - 4s 28ms/step - loss: 0.2678 - accuracy: 0.8933 - val_loss: 0.4187 - val_accuracy: 0.8243\n",
            "Epoch 4/30\n",
            "139/139 [==============================] - 4s 28ms/step - loss: 0.1836 - accuracy: 0.9285 - val_loss: 0.3723 - val_accuracy: 0.8527\n",
            "Epoch 5/30\n",
            "139/139 [==============================] - 4s 28ms/step - loss: 0.1352 - accuracy: 0.9481 - val_loss: 0.3818 - val_accuracy: 0.8653\n",
            "Epoch 6/30\n",
            "139/139 [==============================] - 4s 31ms/step - loss: 0.0905 - accuracy: 0.9653 - val_loss: 0.4346 - val_accuracy: 0.8590\n",
            "Epoch 7/30\n",
            "139/139 [==============================] - 6s 41ms/step - loss: 0.0591 - accuracy: 0.9808 - val_loss: 0.5616 - val_accuracy: 0.8517\n",
            "Epoch 8/30\n",
            "139/139 [==============================] - 4s 32ms/step - loss: 0.0505 - accuracy: 0.9829 - val_loss: 0.8138 - val_accuracy: 0.8211\n",
            "Epoch 9/30\n",
            "139/139 [==============================] - 4s 29ms/step - loss: 0.0419 - accuracy: 0.9862 - val_loss: 0.5517 - val_accuracy: 0.8606\n",
            "Epoch 10/30\n",
            "139/139 [==============================] - 4s 29ms/step - loss: 0.0226 - accuracy: 0.9941 - val_loss: 0.5626 - val_accuracy: 0.8517\n",
            "Epoch 11/30\n",
            "139/139 [==============================] - 4s 29ms/step - loss: 0.0261 - accuracy: 0.9919 - val_loss: 0.5635 - val_accuracy: 0.8585\n",
            "Epoch 12/30\n",
            "139/139 [==============================] - 4s 28ms/step - loss: 0.0188 - accuracy: 0.9946 - val_loss: 0.5583 - val_accuracy: 0.8706\n",
            "Epoch 13/30\n",
            "139/139 [==============================] - 4s 28ms/step - loss: 0.0173 - accuracy: 0.9950 - val_loss: 0.6112 - val_accuracy: 0.8727\n",
            "Epoch 14/30\n",
            "139/139 [==============================] - 4s 29ms/step - loss: 0.0133 - accuracy: 0.9959 - val_loss: 0.6156 - val_accuracy: 0.8643\n",
            "Epoch 15/30\n",
            "139/139 [==============================] - 4s 29ms/step - loss: 0.0094 - accuracy: 0.9975 - val_loss: 0.6255 - val_accuracy: 0.8690\n",
            "Epoch 16/30\n",
            "139/139 [==============================] - 4s 29ms/step - loss: 0.0136 - accuracy: 0.9973 - val_loss: 0.9946 - val_accuracy: 0.7901\n",
            "Epoch 17/30\n",
            "139/139 [==============================] - 4s 28ms/step - loss: 0.0300 - accuracy: 0.9910 - val_loss: 0.9460 - val_accuracy: 0.8353\n",
            "Epoch 18/30\n",
            "139/139 [==============================] - 4s 29ms/step - loss: 0.0164 - accuracy: 0.9950 - val_loss: 0.6752 - val_accuracy: 0.8643\n",
            "Epoch 19/30\n",
            "139/139 [==============================] - 4s 30ms/step - loss: 0.0159 - accuracy: 0.9953 - val_loss: 1.2147 - val_accuracy: 0.8185\n",
            "Epoch 20/30\n",
            "139/139 [==============================] - 4s 29ms/step - loss: 0.0243 - accuracy: 0.9910 - val_loss: 0.8051 - val_accuracy: 0.8606\n",
            "Epoch 21/30\n",
            "139/139 [==============================] - 4s 28ms/step - loss: 0.0071 - accuracy: 0.9982 - val_loss: 0.7110 - val_accuracy: 0.8674\n",
            "Epoch 22/30\n",
            "139/139 [==============================] - 4s 28ms/step - loss: 0.0085 - accuracy: 0.9973 - val_loss: 0.7720 - val_accuracy: 0.8627\n",
            "Epoch 23/30\n",
            "139/139 [==============================] - 4s 29ms/step - loss: 0.0076 - accuracy: 0.9984 - val_loss: 0.8022 - val_accuracy: 0.8585\n",
            "Epoch 24/30\n",
            "139/139 [==============================] - 4s 29ms/step - loss: 0.0087 - accuracy: 0.9980 - val_loss: 0.8975 - val_accuracy: 0.8580\n",
            "Epoch 25/30\n",
            "139/139 [==============================] - 4s 28ms/step - loss: 0.0063 - accuracy: 0.9982 - val_loss: 0.7616 - val_accuracy: 0.8632\n",
            "Epoch 26/30\n",
            "139/139 [==============================] - 4s 29ms/step - loss: 0.0053 - accuracy: 0.9984 - val_loss: 0.8799 - val_accuracy: 0.8585\n",
            "Epoch 27/30\n",
            "139/139 [==============================] - 4s 29ms/step - loss: 0.0444 - accuracy: 0.9833 - val_loss: 0.8546 - val_accuracy: 0.8427\n",
            "Epoch 28/30\n",
            "139/139 [==============================] - 4s 28ms/step - loss: 0.0268 - accuracy: 0.9894 - val_loss: 0.7466 - val_accuracy: 0.8564\n",
            "Epoch 29/30\n",
            "139/139 [==============================] - 5s 34ms/step - loss: 0.0150 - accuracy: 0.9953 - val_loss: 0.9432 - val_accuracy: 0.8453\n",
            "Epoch 30/30\n",
            "139/139 [==============================] - 4s 29ms/step - loss: 0.0059 - accuracy: 0.9980 - val_loss: 0.8794 - val_accuracy: 0.8553\n"
          ]
        }
      ],
      "source": [
        "# realizando o treinamento do modelo \"model_spacy\"\n",
        "history_spacy = model_spacy.fit(X_train, y_train, epochs=30, verbose=1, \n",
        "                                validation_data=(X_test, y_test))"
      ]
    },
    {
      "cell_type": "code",
      "execution_count": 47,
      "metadata": {
        "colab": {
          "base_uri": "https://localhost:8080/"
        },
        "id": "JKFrWjgEFxDO",
        "outputId": "356c099e-1a44-40f6-9cb4-903b0f65b01b"
      },
      "outputs": [
        {
          "output_type": "execute_result",
          "data": {
            "text/plain": [
              "dict_keys(['loss', 'accuracy', 'val_loss', 'val_accuracy'])"
            ]
          },
          "metadata": {},
          "execution_count": 47
        }
      ],
      "source": [
        "# visualizando as chaves presente no objeto \"history_spacy\"\n",
        "history_spacy.history.keys()"
      ]
    },
    {
      "cell_type": "code",
      "execution_count": 48,
      "metadata": {
        "colab": {
          "base_uri": "https://localhost:8080/",
          "height": 465
        },
        "id": "Pitd_NgkF1vj",
        "outputId": "5761ef2f-b654-48f3-8d6b-42806aeecd28"
      },
      "outputs": [
        {
          "output_type": "display_data",
          "data": {
            "text/plain": [
              "<Figure size 864x504 with 1 Axes>"
            ],
            "image/png": "[encoded data removed]"
          },
          "metadata": {}
        }
      ],
      "source": [
        "# com a função \"plot_loss()\", plotando o gráfico de perda do modelo\n",
        "plot_loss(history_spacy)"
      ]
    },
    {
      "cell_type": "code",
      "execution_count": 49,
      "metadata": {
        "colab": {
          "base_uri": "https://localhost:8080/",
          "height": 465
        },
        "id": "v_5mZphIF1m0",
        "outputId": "cb69821d-4fa3-48ba-fff5-6bc4da00f62f"
      },
      "outputs": [
        {
          "output_type": "display_data",
          "data": {
            "text/plain": [
              "<Figure size 864x504 with 1 Axes>"
            ],
            "image/png": "[encoded data removed]"
          },
          "metadata": {}
        }
      ],
      "source": [
        "# com a função \"plot_acc()\", plotando o gráfico da acurácia do modelo\n",
        "plot_acc(history_spacy)"
      ]
    },
    {
      "cell_type": "code",
      "execution_count": 50,
      "metadata": {
        "colab": {
          "base_uri": "https://localhost:8080/"
        },
        "id": "LvbuhdEzvUoo",
        "outputId": "304d935a-5b64-4bb7-c30f-07bb61310737"
      },
      "outputs": [
        {
          "output_type": "stream",
          "name": "stdout",
          "text": [
            "60/60 [==============================] - 1s 10ms/step\n",
            "60/60 [==============================] - 1s 17ms/step\n"
          ]
        }
      ],
      "source": [
        "# com a função \"get_test_metrics\", calculando as métricas do modelo\n",
        "results_spacy = get_test_metrics(model_spacy, X_test, y_test,\n",
        "                                 history_spacy, embedding=embedding_layer,\n",
        "                                 batch_normalize=batch_normalize)\n",
        "\n",
        "# concatenando todos os resultados\n",
        "all_results = pd.concat([all_results, results_spacy])"
      ]
    },
    {
      "cell_type": "code",
      "execution_count": 51,
      "metadata": {
        "colab": {
          "base_uri": "https://localhost:8080/",
          "height": 143
        },
        "id": "ZkLFiQkIvs05",
        "outputId": "ffa2bf68-4bc2-4696-b0fc-19c3411a7014"
      },
      "outputs": [
        {
          "output_type": "execute_result",
          "data": {
            "text/plain": [
              "  embedding  batch_normalize  accuracy   roc_auc        f1  epochs\n",
              "0     keras             True  0.883219  0.953371  0.882664      30\n",
              "0     keras             True  0.883219  0.953371  0.882664      30\n",
              "0     spacy             True  0.855339  0.936923  0.864599      30"
            ],
            "text/html": [
              "\n",
              "  <div id=\"df-638dcc3f-36cc-49d2-9c16-b8bf67eb5fa8\">\n",
              "    <div class=\"colab-df-container\">\n",
              "      <div>\n",
              "<style scoped>\n",
              "    .dataframe tbody tr th:only-of-type {\n",
              "        vertical-align: middle;\n",
              "    }\n",
              "\n",
              "    .dataframe tbody tr th {\n",
              "        vertical-align: top;\n",
              "    }\n",
              "\n",
              "    .dataframe thead th {\n",
              "        text-align: right;\n",
              "    }\n",
              "</style>\n",
              "<table border=\"1\" class=\"dataframe\">\n",
              "  <thead>\n",
              "    <tr style=\"text-align: right;\">\n",
              "      <th></th>\n",
              "      <th>embedding</th>\n",
              "      <th>batch_normalize</th>\n",
              "      <th>accuracy</th>\n",
              "      <th>roc_auc</th>\n",
              "      <th>f1</th>\n",
              "      <th>epochs</th>\n",
              "    </tr>\n",
              "  </thead>\n",
              "  <tbody>\n",
              "    <tr>\n",
              "      <th>0</th>\n",
              "      <td>keras</td>\n",
              "      <td>True</td>\n",
              "      <td>0.883219</td>\n",
              "      <td>0.953371</td>\n",
              "      <td>0.882664</td>\n",
              "      <td>30</td>\n",
              "    </tr>\n",
              "    <tr>\n",
              "      <th>0</th>\n",
              "      <td>keras</td>\n",
              "      <td>True</td>\n",
              "      <td>0.883219</td>\n",
              "      <td>0.953371</td>\n",
              "      <td>0.882664</td>\n",
              "      <td>30</td>\n",
              "    </tr>\n",
              "    <tr>\n",
              "      <th>0</th>\n",
              "      <td>spacy</td>\n",
              "      <td>True</td>\n",
              "      <td>0.855339</td>\n",
              "      <td>0.936923</td>\n",
              "      <td>0.864599</td>\n",
              "      <td>30</td>\n",
              "    </tr>\n",
              "  </tbody>\n",
              "</table>\n",
              "</div>\n",
              "      <button class=\"colab-df-convert\" onclick=\"convertToInteractive('df-638dcc3f-36cc-49d2-9c16-b8bf67eb5fa8')\"\n",
              "              title=\"Convert this dataframe to an interactive table.\"\n",
              "              style=\"display:none;\">\n",
              "        \n",
              "  <svg xmlns=\"http://www.w3.org/2000/svg\" height=\"24px\"viewBox=\"0 0 24 24\"\n",
              "       width=\"24px\">\n",
              "    <path d=\"M0 0h24v24H0V0z\" fill=\"none\"/>\n",
              "    <path d=\"M18.56 5.44l.94 2.06.94-2.06 2.06-.94-2.06-.94-.94-2.06-.94 2.06-2.06.94zm-11 1L8.5 8.5l.94-2.06 2.06-.94-2.06-.94L8.5 2.5l-.94 2.06-2.06.94zm10 10l.94 2.06.94-2.06 2.06-.94-2.06-.94-.94-2.06-.94 2.06-2.06.94z\"/><path d=\"M17.41 7.96l-1.37-1.37c-.4-.4-.92-.59-1.43-.59-.52 0-1.04.2-1.43.59L10.3 9.45l-7.72 7.72c-.78.78-.78 2.05 0 2.83L4 21.41c.39.39.9.59 1.41.59.51 0 1.02-.2 1.41-.59l7.78-7.78 2.81-2.81c.8-.78.8-2.07 0-2.86zM5.41 20L4 18.59l7.72-7.72 1.47 1.35L5.41 20z\"/>\n",
              "  </svg>\n",
              "      </button>\n",
              "      \n",
              "  <style>\n",
              "    .colab-df-container {\n",
              "      display:flex;\n",
              "      flex-wrap:wrap;\n",
              "      gap: 12px;\n",
              "    }\n",
              "\n",
              "    .colab-df-convert {\n",
              "      background-color: #E8F0FE;\n",
              "      border: none;\n",
              "      border-radius: 50%;\n",
              "      cursor: pointer;\n",
              "      display: none;\n",
              "      fill: #1967D2;\n",
              "      height: 32px;\n",
              "      padding: 0 0 0 0;\n",
              "      width: 32px;\n",
              "    }\n",
              "\n",
              "    .colab-df-convert:hover {\n",
              "      background-color: #E2EBFA;\n",
              "      box-shadow: 0px 1px 2px rgba(60, 64, 67, 0.3), 0px 1px 3px 1px rgba(60, 64, 67, 0.15);\n",
              "      fill: #174EA6;\n",
              "    }\n",
              "\n",
              "    [theme=dark] .colab-df-convert {\n",
              "      background-color: #3B4455;\n",
              "      fill: #D2E3FC;\n",
              "    }\n",
              "\n",
              "    [theme=dark] .colab-df-convert:hover {\n",
              "      background-color: #434B5C;\n",
              "      box-shadow: 0px 1px 3px 1px rgba(0, 0, 0, 0.15);\n",
              "      filter: drop-shadow(0px 1px 2px rgba(0, 0, 0, 0.3));\n",
              "      fill: #FFFFFF;\n",
              "    }\n",
              "  </style>\n",
              "\n",
              "      <script>\n",
              "        const buttonEl =\n",
              "          document.querySelector('#df-638dcc3f-36cc-49d2-9c16-b8bf67eb5fa8 button.colab-df-convert');\n",
              "        buttonEl.style.display =\n",
              "          google.colab.kernel.accessAllowed ? 'block' : 'none';\n",
              "\n",
              "        async function convertToInteractive(key) {\n",
              "          const element = document.querySelector('#df-638dcc3f-36cc-49d2-9c16-b8bf67eb5fa8');\n",
              "          const dataTable =\n",
              "            await google.colab.kernel.invokeFunction('convertToInteractive',\n",
              "                                                     [key], {});\n",
              "          if (!dataTable) return;\n",
              "\n",
              "          const docLinkHtml = 'Like what you see? Visit the ' +\n",
              "            '<a target=\"_blank\" href=https://colab.research.google.com/notebooks/data_table.ipynb>data table notebook</a>'\n",
              "            + ' to learn more about interactive tables.';\n",
              "          element.innerHTML = '';\n",
              "          dataTable['output_type'] = 'display_data';\n",
              "          await google.colab.output.renderOutput(dataTable, element);\n",
              "          const docLink = document.createElement('div');\n",
              "          docLink.innerHTML = docLinkHtml;\n",
              "          element.appendChild(docLink);\n",
              "        }\n",
              "      </script>\n",
              "    </div>\n",
              "  </div>\n",
              "  "
            ]
          },
          "metadata": {},
          "execution_count": 51
        }
      ],
      "source": [
        "# viualizando os resultados dos modelos\n",
        "all_results"
      ]
    },
    {
      "cell_type": "code",
      "execution_count": null,
      "metadata": {
        "id": "1z5FGYYVuri5"
      },
      "outputs": [],
      "source": []
    },
    {
      "cell_type": "code",
      "execution_count": null,
      "metadata": {
        "id": "YvrewYDRqKwK"
      },
      "outputs": [],
      "source": []
    },
    {
      "cell_type": "code",
      "execution_count": null,
      "metadata": {
        "id": "Dh3miIiJqKtr"
      },
      "outputs": [],
      "source": []
    }
  ],
  "metadata": {
    "accelerator": "GPU",
    "colab": {
      "provenance": [],
      "authorship_tag": "ABX9TyPEyleiQARpLGzeECGeb4Tw",
      "include_colab_link": true
    },
    "gpuClass": "standard",
    "kernelspec": {
      "display_name": "Python 3",
      "name": "python3"
    },
    "language_info": {
      "name": "python"
    }
  },
  "nbformat": 4,
  "nbformat_minor": 0
}